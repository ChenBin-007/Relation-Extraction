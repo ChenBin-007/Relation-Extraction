{
  "cells": [
    {
      "cell_type": "markdown",
      "metadata": {
        "id": "aOUAb6ju6ICo"
      },
      "source": [
        "# Necessary (Train & Test)"
      ]
    },
    {
      "cell_type": "code",
      "execution_count": 12,
      "metadata": {
        "id": "vMXSH5itAPKO"
      },
      "outputs": [],
      "source": [
        "import matplotlib.pyplot as plt\n",
        "import seaborn as sns\n",
        "import pandas as pd\n",
        "import numpy as np\n",
        "import torch\n",
        "import os\n",
        "from transformers import BertTokenizer\n",
        "from torch import nn\n",
        "from transformers import BertModel\n",
        "from torch.optim import Adam\n",
        "from tqdm import tqdm\n",
        "from sklearn.metrics import confusion_matrix\n",
        "from sklearn.metrics import classification_report"
      ]
    },
    {
      "cell_type": "code",
      "execution_count": 13,
      "metadata": {},
      "outputs": [],
      "source": [
        "# The path to the folder that contains the dataset\n",
        "current_folder_path = os.getcwd()\n",
        "father_folder_path = os.path.dirname(current_folder_path)\n",
        "data_folder_path = father_folder_path + '\\\\nyt_dataset\\\\'"
      ]
    },
    {
      "cell_type": "code",
      "execution_count": 14,
      "metadata": {
        "id": "moxMUbpt-aGp"
      },
      "outputs": [],
      "source": [
        "train_file = pd.read_json(data_folder_path+\"train_data.json\",encoding=\"utf-8\", orient='records')\n",
        "valid_file = pd.read_json(data_folder_path+\"valid_data.json\",encoding=\"utf-8\", orient='records')\n",
        "test_file = pd.read_json(data_folder_path+\"test_data.json\",encoding=\"utf-8\", orient='records')"
      ]
    },
    {
      "cell_type": "code",
      "execution_count": 15,
      "metadata": {},
      "outputs": [],
      "source": [
        "train_tokens = [train_file['text'][i] for i in range(len(train_file['text']))]\n",
        "train_label = [train_file['relation_list'][i][0]['predicate'] for i in range(len(train_file['relation_list']))]\n",
        "valid_tokens = [valid_file['text'][i] for i in range(len(valid_file['text']))]\n",
        "valid_label = [valid_file['relation_list'][i][0]['predicate'] for i in range(len(valid_file['relation_list']))]\n",
        "test_tokens = [test_file['text'][i] for i in range(len(test_file['text']))]\n",
        "test_label = [test_file['relation_list'][i][0]['predicate'] for i in range(len(test_file['relation_list']))]"
      ]
    },
    {
      "cell_type": "code",
      "execution_count": 16,
      "metadata": {},
      "outputs": [],
      "source": [
        "training_df = pd.DataFrame(); testing_df = pd.DataFrame(); validating_df = pd.DataFrame()\n",
        "training_df['Text'] = train_tokens; training_df['Ori_Label'] = train_label\n",
        "validating_df['Text'] = valid_tokens; validating_df['Ori_Label'] = valid_label\n",
        "testing_df['Text'] = test_tokens; testing_df['Ori_Label'] = test_label"
      ]
    },
    {
      "cell_type": "code",
      "execution_count": 17,
      "metadata": {},
      "outputs": [],
      "source": [
        "# Make a list of all of the unique labels in the training and testing dataframes\n",
        "labellist=sorted(list(set(training_df['Ori_Label'].unique()).union(set(testing_df['Ori_Label'].unique()))))\n",
        "# Create a label dictionary\n",
        "labels={label:i for i,label in enumerate(labellist)}\n",
        "reverse_index={value:key for (key,value)in labels.items()}"
      ]
    },
    {
      "cell_type": "code",
      "execution_count": 18,
      "metadata": {},
      "outputs": [],
      "source": [
        "tokenizer=BertTokenizer.from_pretrained('bert-base-cased')\n",
        "# Create a dataset class that inherits the properties of the Dataset class in Torch to pre-process and store the data\n",
        "class Dataset(torch.utils.data.Dataset):\n",
        "    def __init__(self,df,column='Text'):\n",
        "        # Convert label names to label indices using the `labels` dictionary \n",
        "        self.labels=[labels[label] for label in df['Ori_Label']]\n",
        "        # Tokenize the text data using the BERT tokenizer\n",
        "        self.texts=[tokenizer(text.lower(),padding='max_length',max_length=512,truncation=True,return_tensors=\"pt\") for text in df[column]]\n",
        "    def classes(self):\n",
        "        return self.labels\n",
        "    def __len__(self):\n",
        "        return len(self.labels)\n",
        "    def get_batch_labels(self,idx):\n",
        "        return np.array(self.labels[idx])\n",
        "    def get_batch_texts(self,idx):\n",
        "        return self.texts[idx]\n",
        "    def __getitem__(self,idx):\n",
        "        batch_texts=self.get_batch_texts(idx)\n",
        "        batch_y=self.get_batch_labels(idx)\n",
        "        return batch_texts,batch_y"
      ]
    },
    {
      "cell_type": "markdown",
      "metadata": {
        "id": "iUp1ui3YufIJ"
      },
      "source": [
        "# BERT"
      ]
    },
    {
      "cell_type": "code",
      "execution_count": 7,
      "metadata": {
        "id": "nzj5CrSV12jj"
      },
      "outputs": [],
      "source": [
        "# Prepare inputs for the specific device (GPU or CPU) on which the model will run. Pre-check that GPU/CUDA is enabled\n",
        "device=torch.device(\"cuda\" if torch.cuda.is_available() else \"cpu\")"
      ]
    },
    {
      "cell_type": "code",
      "execution_count": 8,
      "metadata": {
        "id": "wiwzj2mv2U1i"
      },
      "outputs": [],
      "source": [
        "def prepare_inputs(input1,label,device):\n",
        "  label=label.to(device)\n",
        "  mask=input1['attention_mask'].to(device)\n",
        "  input_id=input1['input_ids'].squeeze(1).to(device)\n",
        "  return (input_id,mask,label)"
      ]
    },
    {
      "cell_type": "code",
      "execution_count": 9,
      "metadata": {
        "id": "v5ur2F804Jhm"
      },
      "outputs": [],
      "source": [
        "# Create a classification layer on top of BERT\n",
        "class BertClassifier(nn.Module):\n",
        "    # Define Bert model, Dropout layer, linear layer and activation function\n",
        "    def __init__(self,dropout=0.5,num_classes=2):\n",
        "        super(BertClassifier,self).__init__()\n",
        "        self.bert=BertModel.from_pretrained('bert-base-cased')\n",
        "        self.dropout=nn.Dropout(dropout)\n",
        "        self.linear=nn.Linear(768,num_classes)\n",
        "        self.relu=nn.ReLU()\n",
        "    # Define the computational flow of the model    \n",
        "    def forward(self,input_id,mask):\n",
        "        last_hidden_layer,pooled_output = self.bert(input_ids=input_id,attention_mask=mask,return_dict=False)\n",
        "        dropout_output=self.dropout(pooled_output)\n",
        "        linear_output=self.linear(dropout_output)\n",
        "        final_layer=self.relu(linear_output)\n",
        "        return final_layer"
      ]
    },
    {
      "cell_type": "code",
      "execution_count": 10,
      "metadata": {
        "id": "ca3ulp9r4dXm"
      },
      "outputs": [],
      "source": [
        "# Use the definitions of the initialisation method and the forward method of the BertClassifier class to sketch out what the neural network architecture looks like.\n",
        "def train(model, train_data,val_data,learning_rate,epochs,batchSize):\n",
        "    train_dataloader=torch.utils.data.DataLoader(train_data,batch_size=batchSize,shuffle=True)\n",
        "    val_dataloader=torch.utils.data.DataLoader(val_data,batch_size=batchSize)\n",
        "    # Determine if cuda can be called, and call cpu if cuda cannot be called\n",
        "    use_cuda=torch.cuda.is_available()\n",
        "    device=torch.device(\"cuda\" if use_cuda else \"cpu\")\n",
        "    # Define loss function, optimizer and learning rate\n",
        "    criterion=nn.CrossEntropyLoss()\n",
        "    optimizer=Adam(model.parameters(),lr=learning_rate)\n",
        "    if use_cuda:\n",
        "        model=model.cuda()\n",
        "        criterion=criterion.cuda()\n",
        "        \n",
        "    for epoch_num in range(epochs):\n",
        "        # Initialize the cumulative training set accuracy and training set loss\n",
        "        total_acc_train=0\n",
        "        total_loss_train=0\n",
        "        # Set the model to training mode\n",
        "        model.train()\n",
        "        for train_input,train_label in tqdm(train_dataloader):\n",
        "            input_id,mask, train_label=prepare_inputs(train_input,train_label,device)\n",
        "            output=model(input_id,mask)\n",
        "            # Pass the input data to the model for forward propagation, calculate the loss, and accumulate the training set accuracy and training set loss\n",
        "            batch_loss=criterion(output,train_label.long())\n",
        "            total_loss_train +=batch_loss.item()\n",
        "            acc=(output.argmax(dim=1)==train_label).sum().item()\n",
        "            total_acc_train+=acc\n",
        "            # Clear the calculated gradient information\n",
        "            model.zero_grad()\n",
        "            # Calculate the gradient of the loss function with respect to the model parameters\n",
        "            batch_loss.backward()\n",
        "            # Update the parameters in the model to make it more optimal towards the training goal\n",
        "            optimizer.step()\n",
        "        # Initialize the cumulative validation set accuracy and validation set loss    \n",
        "        total_acc_val=0\n",
        "        total_loss_val=0\n",
        "        # Set the model to evaluation mode\n",
        "        model.eval()\n",
        "        # Close gradient calculation\n",
        "        with torch.no_grad():\n",
        "            # Iterate through all the data in the validation set to evaluate the performance of the model\n",
        "            for val_input,val_label in val_dataloader:\n",
        "                input_id,mask, val_label=prepare_inputs(val_input,val_label,device)\n",
        "                output=model(input_id,mask)\n",
        "                # Calculate and accrue losses\n",
        "                batch_loss=criterion(output,val_label.long())\n",
        "                total_loss_val+=batch_loss.item()\n",
        "                # Cumulative number of correctly predicted samples\n",
        "                acc=(output.argmax(dim=1)==val_label).sum().item()\n",
        "                total_acc_val+=acc\n",
        "        print(f'Epochs: {epoch_num+1} | Train Loss: {total_loss_train / len(train_data):.3f} | Train Accuracy: {total_acc_train/len(train_data):.3f}')\n",
        "        print(f'Val loss: {total_loss_val/len(val_data):.3f} | Val Accuracy: {total_acc_val / len(val_data):.3f}')\n",
        "      "
      ]
    },
    {
      "cell_type": "markdown",
      "metadata": {},
      "source": [
        "# Hyperparameter"
      ]
    },
    {
      "cell_type": "code",
      "execution_count": 11,
      "metadata": {
        "colab": {
          "base_uri": "https://localhost:8080/"
        },
        "id": "yVK_laRY4eRa",
        "outputId": "413ffa1d-c85b-4aa7-bf2e-5cf2dcaac47e"
      },
      "outputs": [
        {
          "name": "stderr",
          "output_type": "stream",
          "text": [
            "Some weights of the model checkpoint at bert-base-cased were not used when initializing BertModel: ['cls.predictions.transform.LayerNorm.weight', 'cls.predictions.transform.dense.bias', 'cls.seq_relationship.bias', 'cls.predictions.transform.LayerNorm.bias', 'cls.predictions.transform.dense.weight', 'cls.predictions.decoder.weight', 'cls.predictions.bias', 'cls.seq_relationship.weight']\n",
            "- This IS expected if you are initializing BertModel from the checkpoint of a model trained on another task or with another architecture (e.g. initializing a BertForSequenceClassification model from a BertForPreTraining model).\n",
            "- This IS NOT expected if you are initializing BertModel from the checkpoint of a model that you expect to be exactly identical (initializing a BertForSequenceClassification model from a BertForSequenceClassification model).\n"
          ]
        }
      ],
      "source": [
        "# Define the number of epochs, the learning rate and an instance of BertClassifier network.\n",
        "model=BertClassifier(num_classes=len(labels.keys()))\n",
        "model=model.to(device)\n",
        "EPOCHS=6\n",
        "LR=1e-5\n",
        "batch_size=2"
      ]
    },
    {
      "cell_type": "markdown",
      "metadata": {},
      "source": [
        "# Train"
      ]
    },
    {
      "cell_type": "code",
      "execution_count": null,
      "metadata": {},
      "outputs": [],
      "source": [
        "# Create training and validating datasets using the defined `Dataset` class\n",
        "train_data=Dataset(training_df)\n",
        "valid_data=Dataset(validating_df)"
      ]
    },
    {
      "cell_type": "code",
      "execution_count": 12,
      "metadata": {
        "colab": {
          "base_uri": "https://localhost:8080/"
        },
        "id": "QEn9xgKz4fX9",
        "outputId": "0ea45568-2179-4cc6-f0d5-fe660841a8a6"
      },
      "outputs": [
        {
          "name": "stderr",
          "output_type": "stream",
          "text": [
            "100%|██████████| 28098/28098 [1:38:56<00:00,  4.73it/s]\n"
          ]
        },
        {
          "name": "stdout",
          "output_type": "stream",
          "text": [
            "Epochs: 1 | Train Loss: 0.431 | Train Accuracy: 0.723\n",
            "Val loss: 0.323 | Val Accuracy: 0.750\n"
          ]
        },
        {
          "name": "stderr",
          "output_type": "stream",
          "text": [
            "100%|██████████| 28098/28098 [1:37:53<00:00,  4.78it/s]\n"
          ]
        },
        {
          "name": "stdout",
          "output_type": "stream",
          "text": [
            "Epochs: 2 | Train Loss: 0.281 | Train Accuracy: 0.780\n",
            "Val loss: 0.301 | Val Accuracy: 0.772\n"
          ]
        },
        {
          "name": "stderr",
          "output_type": "stream",
          "text": [
            "100%|██████████| 28098/28098 [1:36:09<00:00,  4.87it/s]\n"
          ]
        },
        {
          "name": "stdout",
          "output_type": "stream",
          "text": [
            "Epochs: 3 | Train Loss: 0.221 | Train Accuracy: 0.814\n",
            "Val loss: 0.288 | Val Accuracy: 0.781\n"
          ]
        },
        {
          "name": "stderr",
          "output_type": "stream",
          "text": [
            "100%|██████████| 28098/28098 [1:35:05<00:00,  4.92it/s]\n"
          ]
        },
        {
          "name": "stdout",
          "output_type": "stream",
          "text": [
            "Epochs: 4 | Train Loss: 0.184 | Train Accuracy: 0.837\n",
            "Val loss: 0.304 | Val Accuracy: 0.776\n"
          ]
        },
        {
          "name": "stderr",
          "output_type": "stream",
          "text": [
            "100%|██████████| 28098/28098 [1:35:17<00:00,  4.91it/s]\n"
          ]
        },
        {
          "name": "stdout",
          "output_type": "stream",
          "text": [
            "Epochs: 5 | Train Loss: 0.158 | Train Accuracy: 0.857\n",
            "Val loss: 0.311 | Val Accuracy: 0.780\n"
          ]
        },
        {
          "name": "stderr",
          "output_type": "stream",
          "text": [
            "100%|██████████| 28098/28098 [1:34:42<00:00,  4.95it/s]\n"
          ]
        },
        {
          "name": "stdout",
          "output_type": "stream",
          "text": [
            "Epochs: 6 | Train Loss: 0.136 | Train Accuracy: 0.878\n",
            "Val loss: 0.351 | Val Accuracy: 0.772\n"
          ]
        }
      ],
      "source": [
        "# Train the BERT model\n",
        "train(model,train_data,valid_data,LR,EPOCHS,batch_size)"
      ]
    },
    {
      "cell_type": "markdown",
      "metadata": {},
      "source": [
        "# Save Model"
      ]
    },
    {
      "cell_type": "code",
      "execution_count": 13,
      "metadata": {
        "id": "F9v1d2xh4jCk"
      },
      "outputs": [],
      "source": [
        "# Save model\n",
        "current_folder_path = os.getcwd()\n",
        "father_folder_path = os.path.dirname(current_folder_path)\n",
        "data_folder_path = father_folder_path + '\\\\trained_model\\\\'\n",
        "output_dir = data_folder_path + \"bert-base-cased-textM-E\" + str(EPOCHS)\n",
        "torch.save(model,output_dir)"
      ]
    },
    {
      "cell_type": "markdown",
      "metadata": {},
      "source": [
        "# Load Model"
      ]
    },
    {
      "cell_type": "code",
      "execution_count": null,
      "metadata": {},
      "outputs": [],
      "source": [
        "# Loda model\n",
        "class BertClassifier(nn.Module):\n",
        "    # Define Bert model, Dropout layer, linear layer and activation function\n",
        "    def __init__(self,dropout=0.5,num_classes=2):\n",
        "        super(BertClassifier,self).__init__()\n",
        "        self.bert=BertModel.from_pretrained('bert-base-cased')\n",
        "        self.dropout=nn.Dropout(dropout)\n",
        "        self.linear=nn.Linear(768,num_classes)\n",
        "        self.relu=nn.ReLU()\n",
        "    # Define the computational flow of the model    \n",
        "    def forward(self,input_id,mask):\n",
        "        last_hidden_layer,pooled_output = self.bert(input_ids=input_id,attention_mask=mask,return_dict=False)\n",
        "        dropout_output=self.dropout(pooled_output)\n",
        "        linear_output=self.linear(dropout_output)\n",
        "        final_layer=self.relu(linear_output)\n",
        "        return final_layer\n",
        "\n",
        "EPOCHS = 6\n",
        "current_folder_path = os.getcwd()\n",
        "father_folder_path = os.path.dirname(current_folder_path)\n",
        "data_folder_path = father_folder_path + '\\\\trained_model\\\\'\n",
        "input_dir = data_folder_path + \"bert-base-cased-textM-E\" + str(EPOCHS)\n",
        "complete_model = torch.load(input_dir)"
      ]
    },
    {
      "cell_type": "markdown",
      "metadata": {},
      "source": [
        "# Test"
      ]
    },
    {
      "cell_type": "code",
      "execution_count": null,
      "metadata": {
        "id": "b1CCU5614lBY"
      },
      "outputs": [],
      "source": [
        "# Model evaluation function\n",
        "def evaluate(model,test_dataset,batchsize):\n",
        "    model.eval()\n",
        "    test_dataloader=torch.utils.data.DataLoader(test_dataset,batch_size=batchsize)\n",
        "    \n",
        "    # Determine if cuda can be called, and call cpu if cuda cannot be called\n",
        "    use_cuda=torch.cuda.is_available()\n",
        "    device=torch.device(\"cuda\" if use_cuda else \"cpu\")\n",
        "    \n",
        "    if use_cuda:\n",
        "        model=model.cuda()\n",
        "        \n",
        "    total_acc_test=0\n",
        "    with torch.no_grad():\n",
        "        count=0\n",
        "        predictions=[]\n",
        "        for test_input,test_label in tqdm(test_dataloader):\n",
        "            count+=batchsize\n",
        "            test_label=test_label.to(device)\n",
        "            mask=test_input['attention_mask'].to(device)\n",
        "            input_id=test_input['input_ids'].squeeze(1).to(device)\n",
        "            output=model(input_id,mask)\n",
        "            # save the prediction for further analysis\n",
        "            predictions.append(output.argmax(dim=1))  \n",
        "            acc=(output.argmax(dim=1)==test_label).sum().item()\n",
        "            \n",
        "            total_acc_test+=acc\n",
        "            \n",
        "    # Show label prediction accuracy        \n",
        "    print(f'Test accuracy: {total_acc_test/len(test_dataset): .3f}')\n",
        "    return predictions"
      ]
    },
    {
      "cell_type": "code",
      "execution_count": 16,
      "metadata": {
        "id": "Z_IVs3Sa4lt_"
      },
      "outputs": [],
      "source": [
        "# Create testing dataset using the defined `Dataset` class\n",
        "test_data=Dataset(testing_df)"
      ]
    },
    {
      "cell_type": "code",
      "execution_count": 17,
      "metadata": {
        "colab": {
          "base_uri": "https://localhost:8080/"
        },
        "id": "3ws1hvfr4nPz",
        "outputId": "e35832e0-899f-4c25-b42e-cf322fce9893"
      },
      "outputs": [
        {
          "name": "stderr",
          "output_type": "stream",
          "text": [
            "100%|██████████| 2500/2500 [03:39<00:00, 11.37it/s]"
          ]
        },
        {
          "name": "stdout",
          "output_type": "stream",
          "text": [
            "Test accuracy:  0.757\n"
          ]
        },
        {
          "name": "stderr",
          "output_type": "stream",
          "text": [
            "\n"
          ]
        }
      ],
      "source": [
        "# Test set label prediction\n",
        "batchsize=2\n",
        "predictions = evaluate(complete_model, test_data, batchsize)"
      ]
    },
    {
      "cell_type": "code",
      "execution_count": 18,
      "metadata": {
        "id": "GcItP5WfHxC7"
      },
      "outputs": [],
      "source": [
        "# Add the predicted label for each test item to the dataframe with the test data\n",
        "flattened=[]\n",
        "for batch in predictions:\n",
        "    for pred in batch:\n",
        "        flattened.append(reverse_index[pred.item()])\n",
        "testing_df['Predict_Label']=flattened"
      ]
    },
    {
      "cell_type": "code",
      "execution_count": null,
      "metadata": {},
      "outputs": [],
      "source": [
        "result_pre_label = testing_df['Predict_Label']\n",
        "result_ori_label = testing_df['Ori_Label']\n",
        "resule_labels = list(set(list(result_ori_label)))"
      ]
    },
    {
      "cell_type": "markdown",
      "metadata": {},
      "source": [
        "# Save Predict Result"
      ]
    },
    {
      "cell_type": "code",
      "execution_count": 30,
      "metadata": {
        "id": "JB13xRg0YNl8"
      },
      "outputs": [],
      "source": [
        "# Save the dataframe with test data and predicted label\n",
        "current_folder_path = os.getcwd()\n",
        "father_folder_path = os.path.dirname(current_folder_path)\n",
        "data_folder_path = father_folder_path + '\\\\result\\\\'\n",
        "test_dir = data_folder_path + \"BERT_result_TextM_E\" + str(EPOCHS) + \".csv\"\n",
        "testing_df.to_csv(test_dir)"
      ]
    },
    {
      "cell_type": "markdown",
      "metadata": {
        "id": "eWfxAReLwbFi"
      },
      "source": [
        "# Load Predict & Evaluation Result"
      ]
    },
    {
      "cell_type": "code",
      "execution_count": 21,
      "metadata": {
        "id": "YiYRwLBJwdh9"
      },
      "outputs": [
        {
          "name": "stdout",
          "output_type": "stream",
          "text": [
            "[[   2    0    0    0    0    0    0    0    0    0    1    0    0    0\n",
            "     0    0    0    0    0    0]\n",
            " [   0   11    0    1    0   16    0    0    0    0    0    0    0    1\n",
            "     0    0    0    0    0    0]\n",
            " [   0    0    0    0   10    2    0    0    0    0    0    0    0    0\n",
            "     0    0    0    0    0    0]\n",
            " [   0    0    0   17    0    6    1    0    0    4    1    0    0    0\n",
            "     0    0    0    0    0    0]\n",
            " [   0    0    0    0   10    3    0    0    0    0    0    0    0    0\n",
            "     0    0    0    0    0    0]\n",
            " [   0   10    0    0    3  336    0    0    0    3    0    1    0    1\n",
            "     1    5    0    0    0    0]\n",
            " [   0    0    0    0    0    0   26   84   10   30    0    0    0    0\n",
            "     6    0    0    0    0    0]\n",
            " [   0    0    0    0    0    1   29   74   14   19    0    0    0    0\n",
            "     5    0    0    0    0    0]\n",
            " [   0    0    0    0    0    1    7   35  109  106    0    2    0    0\n",
            "     5    0    2    1    0    0]\n",
            " [   0    0    0   12    0   43   18   70   66 2212   65    8    0    0\n",
            "    38   45   12    1    0    0]\n",
            " [   0    0    0    1    0    2    0    0    0  103   64    0    0    0\n",
            "     0    0    0    0    0    0]\n",
            " [   0    0    0    0    0    4    0    0    0    5    0   36    0    0\n",
            "     5   14    3    0    1    0]\n",
            " [   0    0    0    0    0    0    0    0    0    0    0    1    0    0\n",
            "     0    0    0    0    0    0]\n",
            " [   0    0    0    0    0    1    0    0    0    0    0    0    0   29\n",
            "     0    0    0    1    0    0]\n",
            " [   0    0    0    0    0    6    1    2    3   20    0   16    0    1\n",
            "   399    4    1    0    0    0]\n",
            " [   0    0    0    2    0   20    0    0    0   27    1   21    0    2\n",
            "     2  392   26    0    0    0]\n",
            " [   0    1    0    2    0    2    0    2    2   13    1   22    0    2\n",
            "     8   43   62    0    0    0]\n",
            " [   0    0    0    0    0    0    0    0    0    0    0    1    0    0\n",
            "     0    0    0    4    0    0]\n",
            " [   0    0    0    0    0    0    0    0    0    1    0    0    0    0\n",
            "     0    1    0    0    0    2]\n",
            " [   0    0    0    0    0    1    0    0    0    2    0    0    0    0\n",
            "     0    1    0    0    5    4]]\n"
          ]
        },
        {
          "data": {
            "image/png": "[encoded data removed]",
            "text/plain": [
              "<Figure size 1296x1152 with 2 Axes>"
            ]
          },
          "metadata": {
            "needs_background": "light"
          },
          "output_type": "display_data"
        },
        {
          "name": "stdout",
          "output_type": "stream",
          "text": [
            "                                                    precision    recall  f1-score   support\n",
            "\n",
            "                        /business/company/founders     1.0000    0.6667    0.8000         3\n",
            "                       /location/location/contains     0.5000    0.3793    0.4314        29\n",
            "                          /people/ethnicity/people     0.0000    0.0000    0.0000        12\n",
            "                          /business/person/company     0.4857    0.5862    0.5312        29\n",
            "                      /sports/sports_team/location     0.4348    0.7692    0.5556        13\n",
            "                         /location/country/capital     0.7568    0.9333    0.8358       360\n",
            "                        /people/person/place_lived     0.3171    0.1667    0.2185       156\n",
            "            /people/deceased_person/place_of_death     0.2772    0.5211    0.3619       142\n",
            "                   /business/company/place_founded     0.5343    0.4067    0.4619       268\n",
            "                        /business/company/advisors     0.8692    0.8541    0.8615      2590\n",
            "         /location/administrative_division/country     0.4812    0.3765    0.4224       170\n",
            "              /business/company/major_shareholders     0.3333    0.5294    0.4091        68\n",
            "                           /people/person/children     0.0000    0.0000    0.0000         1\n",
            "                /sports/sports_team_location/teams     0.8056    0.9355    0.8657        31\n",
            "        /location/country/administrative_divisions     0.8507    0.8808    0.8655       453\n",
            "                     /people/person/place_of_birth     0.7762    0.7951    0.7856       493\n",
            "/business/company_shareholder/major_shareholder_of     0.5849    0.3875    0.4662       160\n",
            "                        /people/person/nationality     0.5714    0.8000    0.6667         5\n",
            "                           /people/person/religion     0.0000    0.0000    0.0000         4\n",
            "            /location/neighborhood/neighborhood_of     0.6667    0.3077    0.4211        13\n",
            "\n",
            "                                          accuracy                         0.7574      5000\n",
            "                                         macro avg     0.5123    0.5148    0.4980      5000\n",
            "                                      weighted avg     0.7591    0.7574    0.7537      5000\n",
            "\n"
          ]
        },
        {
          "name": "stderr",
          "output_type": "stream",
          "text": [
            "e:\\AI\\Python\\lib\\site-packages\\sklearn\\metrics\\_classification.py:1318: UndefinedMetricWarning: Precision and F-score are ill-defined and being set to 0.0 in labels with no predicted samples. Use `zero_division` parameter to control this behavior.\n",
            "  _warn_prf(average, modifier, msg_start, len(result))\n",
            "e:\\AI\\Python\\lib\\site-packages\\sklearn\\metrics\\_classification.py:1318: UndefinedMetricWarning: Precision and F-score are ill-defined and being set to 0.0 in labels with no predicted samples. Use `zero_division` parameter to control this behavior.\n",
            "  _warn_prf(average, modifier, msg_start, len(result))\n",
            "e:\\AI\\Python\\lib\\site-packages\\sklearn\\metrics\\_classification.py:1318: UndefinedMetricWarning: Precision and F-score are ill-defined and being set to 0.0 in labels with no predicted samples. Use `zero_division` parameter to control this behavior.\n",
            "  _warn_prf(average, modifier, msg_start, len(result))\n"
          ]
        }
      ],
      "source": [
        "try:\n",
        "  EPOCHS = 6\n",
        "  current_folder_path = os.getcwd()\n",
        "  father_folder_path = os.path.dirname(current_folder_path)\n",
        "  data_folder_path = father_folder_path + '\\\\result\\\\'\n",
        "  test_dir = data_folder_path + \"BERT_result_TextM_E\" + str(EPOCHS) + \".csv\"\n",
        "  result_file_dir = test_dir\n",
        "  result_file = pd.read_csv(result_file_dir)\n",
        "  result_pre_label = result_file['Predict_Label']\n",
        "  result_ori_label = result_file['Ori_Label']\n",
        "  resule_labels = list(set(list(result_ori_label)))\n",
        "\n",
        "  confusion_matrix = confusion_matrix(result_ori_label, result_pre_label)\n",
        "  print(confusion_matrix)\n",
        "\n",
        "  plt.figure(figsize=(18, 16))\n",
        "  sns.heatmap(confusion_matrix, annot=True, cmap='Blues')\n",
        "  plt.xlabel('Predicted labels')\n",
        "  plt.ylabel('True labels')\n",
        "  plt.show()\n",
        "\n",
        "  print(classification_report(result_ori_label, result_pre_label, target_names=resule_labels, digits=4))\n",
        "  \n",
        "except:\n",
        "  print('Select File Wrong!')"
      ]
    },
    {
      "cell_type": "markdown",
      "metadata": {},
      "source": [
        "# Predict a New Sentence"
      ]
    },
    {
      "cell_type": "markdown",
      "metadata": {},
      "source": [
        "## Necessary (Pridict)"
      ]
    },
    {
      "cell_type": "code",
      "execution_count": null,
      "metadata": {},
      "outputs": [],
      "source": [
        "def predict_new_sentence(model, sentence, tokenizer, labels):\n",
        "        use_cuda=torch.cuda.is_available()\n",
        "        device=torch.device(\"cuda\" if use_cuda else \"cpu\")\n",
        "        model.eval()\n",
        "        inputs = tokenizer(sentence, return_tensors=\"pt\")\n",
        "        input_id = inputs['input_ids'].to(device)\n",
        "        mask = inputs['attention_mask'].to(device)\n",
        "        output = model(input_id, mask)\n",
        "        pred = output.argmax(dim=1)\n",
        "        return labels[pred.item()]\n",
        "\n",
        "def get_similar_token(entity, mymodel):\n",
        "    similar_list = []\n",
        "    # Add the similarity word to the list\n",
        "    for idx, token in enumerate(entity):\n",
        "        try:\n",
        "            similar_list.append(mymodel.most_similar(positive=[token[0]]))\n",
        "        except:\n",
        "            similar_list.append([])\n",
        "            print(\"The '\" + token[0] + \"' is not in the model\")\n",
        "\n",
        "    # Add original word to the list\n",
        "    for i in range(len(entity)):\n",
        "        similar_list[i].append((entity[i][0], entity[i][1]))\n",
        "    \n",
        "    return similar_list\n",
        "\n",
        "def get_similar_sentence(entity, mymodel, tokens, entity_index):\n",
        "    similar_token_list = get_similar_token(entity, mymodel)\n",
        "    now_tokens_list = []\n",
        "    if len(entity)==2:\n",
        "        for i in range(len(similar_token_list[0])):\n",
        "            tokens[entity_index[0]] = similar_token_list[0][i][0]\n",
        "            for j in range(len(similar_token_list[1])):\n",
        "                tokens[entity_index[1]] = similar_token_list[1][j][0]\n",
        "                now_tokens = ' '.join(tokens)\n",
        "                weight = similar_token_list[0][i][1] * similar_token_list[1][j][1]\n",
        "                now_tokens_list.append([now_tokens, weight])\n",
        "    else:\n",
        "        for i in range(len(similar_token_list[0])):\n",
        "            tokens[entity_index[0]] = similar_token_list[0][i][0]\n",
        "            now_tokens = ' '.join(tokens)\n",
        "            weight = similar_token_list[0][i][1]\n",
        "            now_tokens_list.append([now_tokens, weight])\n",
        "            \n",
        "    return now_tokens_list"
      ]
    },
    {
      "cell_type": "code",
      "execution_count": null,
      "metadata": {},
      "outputs": [],
      "source": [
        "# Load the NER model and word2vec model\n",
        "from transformers import pipeline\n",
        "NER = pipeline(\"ner\")\n",
        "\n",
        "from gensim.models import KeyedVectors\n",
        "filename='GoogleNews-vectors-negative300.bin'\n",
        "mymodel = KeyedVectors.load_word2vec_format(filename, binary=True)"
      ]
    },
    {
      "cell_type": "markdown",
      "metadata": {},
      "source": [
        "## Enter a new sentence"
      ]
    },
    {
      "cell_type": "code",
      "execution_count": null,
      "metadata": {},
      "outputs": [],
      "source": [
        "new_sentence = str(input(\"Enter the text you want to predict: \"))\n",
        "new_sentence_ori = new_sentence\n",
        "new_sentence_ori"
      ]
    },
    {
      "cell_type": "markdown",
      "metadata": {},
      "source": [
        "## Use BERT model and Word2vec model"
      ]
    },
    {
      "cell_type": "code",
      "execution_count": null,
      "metadata": {},
      "outputs": [],
      "source": [
        "# Remove special characters\n",
        "import re\n",
        "new_sentence = re.sub(r'[^a-zA-Z ]', ' ', new_sentence)\n",
        "\n",
        "# NER\n",
        "score = [i['score'] for i in NER(new_sentence)]\n",
        "word = [i['word'] for i in NER(new_sentence)]\n",
        "\n",
        "# Get two entity\n",
        "entity = []\n",
        "if len(word) >= 1:\n",
        "    word.index(max(word))\n",
        "    entity.append([word[word.index(max(word))], score[word.index(max(word))]])\n",
        "    if len(word) >= 2:\n",
        "        word.pop(word.index(max(word)))\n",
        "        entity.append([word[word.index(max(word))], score[word.index(max(word))]])\n",
        "\n",
        "    print(entity)\n",
        "\n",
        "    # Get tokens and entity index in tokens\n",
        "    B_W_sentence = new_sentence\n",
        "    tokens = B_W_sentence.split(' ')\n",
        "\n",
        "    # entity_index = [tokens.index(entity[i][0]) for i in range(len(entity))]\n",
        "    entity_index = []\n",
        "    n = 0\n",
        "    for i in range(len(entity)):\n",
        "        try:\n",
        "            entity_index.append(tokens.index(entity[i][0]))\n",
        "        except:\n",
        "            n+=1\n",
        "            entity_index.append(0)\n",
        "            print(\"The entity '\" + entity[i][0] + \"' is not in the sentence\")\n",
        "    \n",
        "    if n == 2:\n",
        "        predict_results = \"/\"\n",
        "\n",
        "    else:\n",
        "        # Replace entity with similar token\n",
        "        now_tokens_list = get_similar_sentence(entity, mymodel, tokens, entity_index)\n",
        "\n",
        "        # Predict the result\n",
        "        predict_results = {label:0 for i,label in enumerate(labellist)}\n",
        "        for i in range(len(now_tokens_list)):\n",
        "            predict_result = predict_new_sentence(complete_model, now_tokens_list[i][0], tokenizer, reverse_index)\n",
        "            predict_results[predict_result] = predict_results[predict_result] + now_tokens_list[i][1]\n",
        "\n",
        "        # Remove relations that were never predicted\n",
        "        move_list = []\n",
        "        for k,v in predict_results.items():\n",
        "            if v == 0:\n",
        "                move_list.append(k)\n",
        "        for i in move_list:\n",
        "            predict_results.pop(i)\n",
        "\n",
        "        # Sort the results\n",
        "        predict_results = dict(sorted(predict_results.items(), key=lambda item: item[1], reverse=True))\n",
        "\n",
        "else:\n",
        "    predict_results = \"/\"\n",
        "    print(\"Cannot find entity in the sentence\")"
      ]
    },
    {
      "cell_type": "markdown",
      "metadata": {},
      "source": [
        "## Predict result"
      ]
    },
    {
      "cell_type": "code",
      "execution_count": null,
      "metadata": {},
      "outputs": [],
      "source": [
        "predict = predict_new_sentence(complete_model, new_sentence, tokenizer, reverse_index)\n",
        "print(\"The sentence is          : \", new_sentence_ori)\n",
        "print(\"\\nThe predicted of BERT is : \", predict)\n",
        "print(\"\\nThe predicted OF BERT & Word2vec is: \")\n",
        "predict_results"
      ]
    }
  ],
  "metadata": {
    "accelerator": "GPU",
    "colab": {
      "gpuType": "A100",
      "machine_shape": "hm",
      "provenance": []
    },
    "gpuClass": "standard",
    "kernelspec": {
      "display_name": "Python 3",
      "name": "python3"
    },
    "language_info": {
      "codemirror_mode": {
        "name": "ipython",
        "version": 3
      },
      "file_extension": ".py",
      "mimetype": "text/x-python",
      "name": "python",
      "nbconvert_exporter": "python",
      "pygments_lexer": "ipython3",
      "version": "3.7.4"
    }
  },
  "nbformat": 4,
  "nbformat_minor": 0
}
