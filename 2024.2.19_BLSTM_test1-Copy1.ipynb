{
 "cells": [
  {
   "cell_type": "markdown",
   "id": "e1d74285",
   "metadata": {},
   "source": [
    "### Brief data analysis "
   ]
  },
  {
   "cell_type": "code",
   "execution_count": 2,
   "id": "86645b0d",
   "metadata": {},
   "outputs": [
    {
     "name": "stderr",
     "output_type": "stream",
     "text": [
      "C:\\Users\\qiuji\\anaconda3\\lib\\site-packages\\scipy\\__init__.py:155: UserWarning: A NumPy version >=1.18.5 and <1.25.0 is required for this version of SciPy (detected version 1.26.2\n",
      "  warnings.warn(f\"A NumPy version >={np_minversion} and <{np_maxversion}\"\n"
     ]
    }
   ],
   "source": [
    "import pandas as pd\n",
    "import tensorflow as tf\n",
    "import json\n",
    "from pandas.core.frame import DataFrame\n",
    "\n",
    "from keras.preprocessing.text import Tokenizer\n",
    "from tensorflow.keras.preprocessing.sequence import pad_sequences\n",
    "from tensorflow.python.keras.utils.np_utils import to_categorical\n"
   ]
  },
  {
   "cell_type": "code",
   "execution_count": 3,
   "id": "cf5f6fcb",
   "metadata": {},
   "outputs": [
    {
     "data": {
      "text/plain": [
       "'2.10.0'"
      ]
     },
     "execution_count": 3,
     "metadata": {},
     "output_type": "execute_result"
    }
   ],
   "source": [
    "import tensorflow as tf\n",
    "tf.__version__\n"
   ]
  },
  {
   "cell_type": "code",
   "execution_count": 4,
   "id": "28bb5a4f",
   "metadata": {},
   "outputs": [
    {
     "name": "stdout",
     "output_type": "stream",
     "text": [
      "[PhysicalDevice(name='/physical_device:GPU:0', device_type='GPU')]\n"
     ]
    }
   ],
   "source": [
    "gpus = tf.config.list_physical_devices('GPU')\n",
    "print(gpus)"
   ]
  },
  {
   "cell_type": "code",
   "execution_count": 5,
   "id": "cf00252d",
   "metadata": {},
   "outputs": [],
   "source": [
    "tf.debugging.set_log_device_placement(True)"
   ]
  },
  {
   "cell_type": "code",
   "execution_count": 27,
   "id": "8ad0f74b",
   "metadata": {},
   "outputs": [
    {
     "data": {
      "text/html": [
       "<div>\n",
       "<style scoped>\n",
       "    .dataframe tbody tr th:only-of-type {\n",
       "        vertical-align: middle;\n",
       "    }\n",
       "\n",
       "    .dataframe tbody tr th {\n",
       "        vertical-align: top;\n",
       "    }\n",
       "\n",
       "    .dataframe thead th {\n",
       "        text-align: right;\n",
       "    }\n",
       "</style>\n",
       "<table border=\"1\" class=\"dataframe\">\n",
       "  <thead>\n",
       "    <tr style=\"text-align: right;\">\n",
       "      <th></th>\n",
       "      <th>text</th>\n",
       "      <th>id</th>\n",
       "      <th>relation_list</th>\n",
       "      <th>entity_list</th>\n",
       "    </tr>\n",
       "  </thead>\n",
       "  <tbody>\n",
       "    <tr>\n",
       "      <th>0</th>\n",
       "      <td>Massachusetts ASTON MAGNA Great Barrington ; a...</td>\n",
       "      <td>train_0</td>\n",
       "      <td>[{'subject': 'Annandale-on-Hudson', 'object': ...</td>\n",
       "      <td>[{'text': 'Annandale-on-Hudson', 'type': 'DEFA...</td>\n",
       "    </tr>\n",
       "    <tr>\n",
       "      <th>1</th>\n",
       "      <td>North Carolina EASTERN MUSIC FESTIVAL Greensbo...</td>\n",
       "      <td>train_1</td>\n",
       "      <td>[{'subject': 'North Carolina', 'object': 'Gree...</td>\n",
       "      <td>[{'text': 'North Carolina', 'type': 'DEFAULT',...</td>\n",
       "    </tr>\n",
       "    <tr>\n",
       "      <th>2</th>\n",
       "      <td>It will be the final movie credited to Debra H...</td>\n",
       "      <td>train_2</td>\n",
       "      <td>[{'subject': 'Debra Hill', 'object': 'Haddonfi...</td>\n",
       "      <td>[{'text': 'Debra Hill', 'type': 'DEFAULT', 'ch...</td>\n",
       "    </tr>\n",
       "    <tr>\n",
       "      <th>3</th>\n",
       "      <td>In a 3-0 victory over the Crew on Saturday in ...</td>\n",
       "      <td>train_3</td>\n",
       "      <td>[{'subject': 'Ohio', 'object': 'Columbus', 'su...</td>\n",
       "      <td>[{'text': 'Ohio', 'type': 'DEFAULT', 'char_spa...</td>\n",
       "    </tr>\n",
       "    <tr>\n",
       "      <th>4</th>\n",
       "      <td>The United States ambassador to Mexico , Tony ...</td>\n",
       "      <td>train_4</td>\n",
       "      <td>[{'subject': 'Mexico', 'object': 'Nuevo Laredo...</td>\n",
       "      <td>[{'text': 'Mexico', 'type': 'DEFAULT', 'char_s...</td>\n",
       "    </tr>\n",
       "    <tr>\n",
       "      <th>...</th>\n",
       "      <td>...</td>\n",
       "      <td>...</td>\n",
       "      <td>...</td>\n",
       "      <td>...</td>\n",
       "    </tr>\n",
       "    <tr>\n",
       "      <th>56191</th>\n",
       "      <td>Tanna 's big draw is Mount Yasur , one of the ...</td>\n",
       "      <td>train_56191</td>\n",
       "      <td>[{'subject': 'Tanna', 'object': 'Mount Yasur',...</td>\n",
       "      <td>[{'text': 'Tanna', 'type': 'DEFAULT', 'char_sp...</td>\n",
       "    </tr>\n",
       "    <tr>\n",
       "      <th>56192</th>\n",
       "      <td>We flew Air Pacific -LRB- 800-227-4446 ; www.a...</td>\n",
       "      <td>train_56192</td>\n",
       "      <td>[{'subject': 'Vanuatu', 'object': 'Port Vila',...</td>\n",
       "      <td>[{'text': 'Vanuatu', 'type': 'DEFAULT', 'char_...</td>\n",
       "    </tr>\n",
       "    <tr>\n",
       "      <th>56193</th>\n",
       "      <td>I think Westchester is changing , '' said Kenn...</td>\n",
       "      <td>train_56193</td>\n",
       "      <td>[{'subject': 'Kenneth T. Jackson', 'object': '...</td>\n",
       "      <td>[{'text': 'Kenneth T. Jackson', 'type': 'DEFAU...</td>\n",
       "    </tr>\n",
       "    <tr>\n",
       "      <th>56194</th>\n",
       "      <td>Here we have a 172-acre island with four-star ...</td>\n",
       "      <td>train_56194</td>\n",
       "      <td>[{'subject': 'Ellis Island', 'object': 'Manhat...</td>\n",
       "      <td>[{'text': 'Ellis Island', 'type': 'DEFAULT', '...</td>\n",
       "    </tr>\n",
       "    <tr>\n",
       "      <th>56195</th>\n",
       "      <td>One was for St. Francis de Sales Roman Catholi...</td>\n",
       "      <td>train_56195</td>\n",
       "      <td>[{'subject': 'Belle Harbor', 'object': 'Queens...</td>\n",
       "      <td>[{'text': 'Belle Harbor', 'type': 'DEFAULT', '...</td>\n",
       "    </tr>\n",
       "  </tbody>\n",
       "</table>\n",
       "<p>56196 rows × 4 columns</p>\n",
       "</div>"
      ],
      "text/plain": [
       "                                                    text           id  \\\n",
       "0      Massachusetts ASTON MAGNA Great Barrington ; a...      train_0   \n",
       "1      North Carolina EASTERN MUSIC FESTIVAL Greensbo...      train_1   \n",
       "2      It will be the final movie credited to Debra H...      train_2   \n",
       "3      In a 3-0 victory over the Crew on Saturday in ...      train_3   \n",
       "4      The United States ambassador to Mexico , Tony ...      train_4   \n",
       "...                                                  ...          ...   \n",
       "56191  Tanna 's big draw is Mount Yasur , one of the ...  train_56191   \n",
       "56192  We flew Air Pacific -LRB- 800-227-4446 ; www.a...  train_56192   \n",
       "56193  I think Westchester is changing , '' said Kenn...  train_56193   \n",
       "56194  Here we have a 172-acre island with four-star ...  train_56194   \n",
       "56195  One was for St. Francis de Sales Roman Catholi...  train_56195   \n",
       "\n",
       "                                           relation_list  \\\n",
       "0      [{'subject': 'Annandale-on-Hudson', 'object': ...   \n",
       "1      [{'subject': 'North Carolina', 'object': 'Gree...   \n",
       "2      [{'subject': 'Debra Hill', 'object': 'Haddonfi...   \n",
       "3      [{'subject': 'Ohio', 'object': 'Columbus', 'su...   \n",
       "4      [{'subject': 'Mexico', 'object': 'Nuevo Laredo...   \n",
       "...                                                  ...   \n",
       "56191  [{'subject': 'Tanna', 'object': 'Mount Yasur',...   \n",
       "56192  [{'subject': 'Vanuatu', 'object': 'Port Vila',...   \n",
       "56193  [{'subject': 'Kenneth T. Jackson', 'object': '...   \n",
       "56194  [{'subject': 'Ellis Island', 'object': 'Manhat...   \n",
       "56195  [{'subject': 'Belle Harbor', 'object': 'Queens...   \n",
       "\n",
       "                                             entity_list  \n",
       "0      [{'text': 'Annandale-on-Hudson', 'type': 'DEFA...  \n",
       "1      [{'text': 'North Carolina', 'type': 'DEFAULT',...  \n",
       "2      [{'text': 'Debra Hill', 'type': 'DEFAULT', 'ch...  \n",
       "3      [{'text': 'Ohio', 'type': 'DEFAULT', 'char_spa...  \n",
       "4      [{'text': 'Mexico', 'type': 'DEFAULT', 'char_s...  \n",
       "...                                                  ...  \n",
       "56191  [{'text': 'Tanna', 'type': 'DEFAULT', 'char_sp...  \n",
       "56192  [{'text': 'Vanuatu', 'type': 'DEFAULT', 'char_...  \n",
       "56193  [{'text': 'Kenneth T. Jackson', 'type': 'DEFAU...  \n",
       "56194  [{'text': 'Ellis Island', 'type': 'DEFAULT', '...  \n",
       "56195  [{'text': 'Belle Harbor', 'type': 'DEFAULT', '...  \n",
       "\n",
       "[56196 rows x 4 columns]"
      ]
     },
     "execution_count": 27,
     "metadata": {},
     "output_type": "execute_result"
    }
   ],
   "source": [
    "df = pd.read_json(\"train_data.json\",encoding=\"utf-8\", orient='records')\n",
    "df"
   ]
  },
  {
   "cell_type": "markdown",
   "id": "e73f227c",
   "metadata": {},
   "source": [
    "### Data preprocess"
   ]
  },
  {
   "cell_type": "code",
   "execution_count": 15,
   "id": "9251caf7",
   "metadata": {},
   "outputs": [],
   "source": [
    "def data_process(train_file,valid_file,test_file):\n",
    "    \n",
    "    #tf.debugging.set_log_device_placement(True)\n",
    "    df = pd.read_json(train_file,encoding=\"utf-8\", orient='records')\n",
    "    with open(\"rel2id.json\",\"r\") as f:\n",
    "        rel2id = json.load(f)\n",
    "        id2rel = {k:v for k, v in rel2id.items()}\n",
    "        num_classes = len(rel2id)\n",
    "        \n",
    "        \n",
    "    n_most_common_words = 50000 # vocabulary size\n",
    "    max_len = 100\n",
    "# Initialization\n",
    "    tokenizer = Tokenizer(num_words=n_most_common_words, filters='!\"#$%&()*+,-./:;=?@[]^_`{|}~', lower=True)\n",
    "    tokenizer.fit_on_texts(df['text'].values)\n",
    "    \n",
    "    X_train = input_process(tokenizer,df,max_len)\n",
    "    label_train = label_process(df,id2rel)\n",
    "    \n",
    "    df_valid = pd.read_json(valid_file,encoding=\"utf-8\", orient='records')\n",
    "    X_valid = input_process(tokenizer,df_valid,max_len)\n",
    "    label_valid = label_process(df_valid,id2rel)\n",
    "    \n",
    "    df_test = pd.read_json(test_file,encoding=\"utf-8\", orient='records')\n",
    "    X_test = input_process(tokenizer,df_test,max_len)\n",
    "    label_test = label_process(df_test,id2rel)\n",
    "    \n",
    "\n",
    "    \n",
    "    return X_train, label_train, X_valid, label_valid, X_test, label_test \n",
    "\n",
    "def input_process(tokenizer,df,max_len):\n",
    "    sequences = tokenizer.texts_to_sequences(df['text'].values)\n",
    "    #word_index = tokenizer.word_index\n",
    "    X = pad_sequences(sequences, maxlen=max_len)\n",
    "    return X\n",
    "\n",
    "def label_process(df_object,relate_label):\n",
    "    label=[df_object[\"relation_list\"][i][0][\"predicate\"] for i in range(df_object.shape[0])]\n",
    "    train_label = [relate_label[i] for i in label]\n",
    "    labels=DataFrame(train_label)\n",
    "    labels = to_categorical(labels, num_classes=24)\n",
    "    return labels\n",
    "    "
   ]
  },
  {
   "cell_type": "code",
   "execution_count": 16,
   "id": "32f9a37b",
   "metadata": {},
   "outputs": [],
   "source": [
    "X_train, y_train, X_validation, y_validation,X_test,y_test = data_process(\"train_data.json\",\"valid_data.json\",\"test_data.json\")"
   ]
  },
  {
   "cell_type": "code",
   "execution_count": 17,
   "id": "be7b89b4",
   "metadata": {},
   "outputs": [
    {
     "data": {
      "text/plain": [
       "(56196, 24)"
      ]
     },
     "execution_count": 17,
     "metadata": {},
     "output_type": "execute_result"
    }
   ],
   "source": [
    "y_train.shape"
   ]
  },
  {
   "cell_type": "code",
   "execution_count": 18,
   "id": "b53e5398",
   "metadata": {},
   "outputs": [
    {
     "name": "stdout",
     "output_type": "stream",
     "text": [
      "WARNING:tensorflow:Layer lstm_1 will not use cuDNN kernels since it doesn't meet the criteria. It will use a generic GPU kernel as fallback when running on GPU.\n",
      "WARNING:tensorflow:Layer lstm_1 will not use cuDNN kernels since it doesn't meet the criteria. It will use a generic GPU kernel as fallback when running on GPU.\n",
      "WARNING:tensorflow:Layer lstm_1 will not use cuDNN kernels since it doesn't meet the criteria. It will use a generic GPU kernel as fallback when running on GPU.\n",
      "Model: \"sequential_1\"\n",
      "_________________________________________________________________\n",
      " Layer (type)                Output Shape              Param #   \n",
      "=================================================================\n",
      " embedding_1 (Embedding)     (None, 100, 300)          15000000  \n",
      "                                                                 \n",
      " bidirectional_1 (Bidirectio  (None, 256)              439296    \n",
      " nal)                                                            \n",
      "                                                                 \n",
      " dense_1 (Dense)             (None, 24)                6168      \n",
      "                                                                 \n",
      "=================================================================\n",
      "Total params: 15,445,464\n",
      "Trainable params: 15,445,464\n",
      "Non-trainable params: 0\n",
      "_________________________________________________________________\n",
      "None\n"
     ]
    },
    {
     "name": "stderr",
     "output_type": "stream",
     "text": [
      "C:\\Users\\qiuji\\anaconda3\\lib\\site-packages\\keras\\optimizers\\optimizer_v2\\adam.py:114: UserWarning: The `lr` argument is deprecated, use `learning_rate` instead.\n",
      "  super().__init__(name, **kwargs)\n"
     ]
    }
   ],
   "source": [
    "from keras import Sequential\n",
    "from keras.layers import *\n",
    "embedding_size = 300\n",
    "n_most_common_words = 50000\n",
    "model = Sequential()\n",
    "model.add(Embedding(n_most_common_words, embedding_size, input_length=X_train.shape[1]))\n",
    "model.add(Bidirectional(LSTM(128, dropout=0.5, recurrent_dropout=0.5)))\n",
    "model.add(Dense(y_train.shape[1], activation='relu'))\n",
    "model.compile(tf.keras.optimizers.Adam(lr = 0.001),loss='categorical_crossentropy', metrics=['acc'])\n",
    "print(model.summary())"
   ]
  },
  {
   "cell_type": "code",
   "execution_count": 19,
   "id": "6a0c0fd7",
   "metadata": {},
   "outputs": [],
   "source": [
    "import os\n",
    "os.environ[\"TF_FORCE_GPU_ALLOW_GROWTH\"] = \"true\""
   ]
  },
  {
   "cell_type": "code",
   "execution_count": 12,
   "id": "6d343a08",
   "metadata": {},
   "outputs": [
    {
     "name": "stdout",
     "output_type": "stream",
     "text": [
      "True\n",
      "[PhysicalDevice(name='/physical_device:GPU:0', device_type='GPU')]\n",
      "[name: \"/device:CPU:0\"\n",
      "device_type: \"CPU\"\n",
      "memory_limit: 268435456\n",
      "locality {\n",
      "}\n",
      "incarnation: 3456487010435987500\n",
      "xla_global_id: -1\n",
      ", name: \"/device:GPU:0\"\n",
      "device_type: \"GPU\"\n",
      "memory_limit: 5717884928\n",
      "locality {\n",
      "  bus_id: 1\n",
      "  links {\n",
      "  }\n",
      "}\n",
      "incarnation: 634593262848038861\n",
      "physical_device_desc: \"device: 0, name: NVIDIA GeForce RTX 4060 Laptop GPU, pci bus id: 0000:01:00.0, compute capability: 8.9\"\n",
      "xla_global_id: 416903419\n",
      "]\n"
     ]
    }
   ],
   "source": [
    "from tensorflow.python.client import device_lib\n",
    "print(tf.test.is_built_with_cuda())\n",
    "gpus = tf.config.experimental.list_physical_devices(device_type='GPU')\n",
    "print(gpus)\n",
    "\n",
    " \n",
    " \n",
    "print(device_lib.list_local_devices())"
   ]
  },
  {
   "cell_type": "code",
   "execution_count": 20,
   "id": "72cb3106",
   "metadata": {},
   "outputs": [
    {
     "name": "stdout",
     "output_type": "stream",
     "text": [
      "Epoch 1/3\n",
      "440/440 [==============================] - 947s 2s/step - loss: 4.6120 - acc: 0.3881 - val_loss: 1.7004 - val_acc: 0.5272\n",
      "Epoch 2/3\n",
      "440/440 [==============================] - 865s 2s/step - loss: 1.6867 - acc: 0.5608 - val_loss: 1.6508 - val_acc: 0.5734\n",
      "Epoch 3/3\n",
      "440/440 [==============================] - 425s 966ms/step - loss: 1.3015 - acc: 0.6026 - val_loss: 1.5727 - val_acc: 0.6600\n"
     ]
    },
    {
     "data": {
      "text/plain": [
       "<keras.callbacks.History at 0x22fddac20a0>"
      ]
     },
     "execution_count": 20,
     "metadata": {},
     "output_type": "execute_result"
    }
   ],
   "source": [
    "model.fit(X_train, y_train, epochs=3, batch_size=128, validation_data = (X_validation, y_validation),workers=4)\n",
    "#model.fit(X_train, y_train, epochs=3, batch_size=128, validation_split=0.2)\n"
   ]
  },
  {
   "cell_type": "code",
   "execution_count": 21,
   "id": "4361c35f",
   "metadata": {},
   "outputs": [
    {
     "data": {
      "text/plain": [
       "[4.6119771003723145, 1.6866519451141357, 1.301505446434021]"
      ]
     },
     "execution_count": 21,
     "metadata": {},
     "output_type": "execute_result"
    }
   ],
   "source": [
    "model.history.history[\"loss\"]"
   ]
  },
  {
   "cell_type": "code",
   "execution_count": 22,
   "id": "5a570736",
   "metadata": {},
   "outputs": [],
   "source": [
    "import matplotlib.pyplot as plt\n",
    "def show_train_history(train_history,train_metrics,val_metrics):\n",
    "    plt.plot(train_history[train_metrics])\n",
    "    plt.plot(train_history[val_metrics])\n",
    "    plt.title('Train History')\n",
    "    plt.ylabel(train_metrics)\n",
    "    plt.xlabel('epoch')\n",
    "    plt.legend(['train','validation'],loc='upper left')\n",
    "    plt.show()\n"
   ]
  },
  {
   "cell_type": "code",
   "execution_count": 23,
   "id": "98d16112",
   "metadata": {},
   "outputs": [
    {
     "data": {
      "image/png": "[encoded data removed]",
      "text/plain": [
       "<Figure size 640x480 with 1 Axes>"
      ]
     },
     "metadata": {},
     "output_type": "display_data"
    }
   ],
   "source": [
    "show_train_history(model.history.history,'loss','val_loss')"
   ]
  },
  {
   "cell_type": "code",
   "execution_count": 25,
   "id": "27961347",
   "metadata": {},
   "outputs": [
    {
     "data": {
      "image/png": "[encoded data removed]",
      "text/plain": [
       "<Figure size 640x480 with 1 Axes>"
      ]
     },
     "metadata": {},
     "output_type": "display_data"
    }
   ],
   "source": [
    "show_train_history(model.history.history,'acc','val_acc')"
   ]
  },
  {
   "cell_type": "code",
   "execution_count": 29,
   "id": "442c0887",
   "metadata": {},
   "outputs": [
    {
     "name": "stdout",
     "output_type": "stream",
     "text": [
      "WARNING:tensorflow:Model was constructed with shape (None, 100) for input KerasTensor(type_spec=TensorSpec(shape=(None, 100), dtype=tf.float32, name='embedding_1_input'), name='embedding_1_input', description=\"created by layer 'embedding_1_input'\"), but it was called on an input with incompatible shape (None,).\n"
     ]
    },
    {
     "ename": "ValueError",
     "evalue": "in user code:\n\n    File \"C:\\Users\\qiuji\\anaconda3\\lib\\site-packages\\keras\\engine\\training.py\", line 2041, in predict_function  *\n        return step_function(self, iterator)\n    File \"C:\\Users\\qiuji\\anaconda3\\lib\\site-packages\\keras\\engine\\training.py\", line 2027, in step_function  **\n        outputs = model.distribute_strategy.run(run_step, args=(data,))\n    File \"C:\\Users\\qiuji\\anaconda3\\lib\\site-packages\\keras\\engine\\training.py\", line 2015, in run_step  **\n        outputs = model.predict_step(data)\n    File \"C:\\Users\\qiuji\\anaconda3\\lib\\site-packages\\keras\\engine\\training.py\", line 1983, in predict_step\n        return self(x, training=False)\n    File \"C:\\Users\\qiuji\\anaconda3\\lib\\site-packages\\keras\\utils\\traceback_utils.py\", line 70, in error_handler\n        raise e.with_traceback(filtered_tb) from None\n    File \"C:\\Users\\qiuji\\anaconda3\\lib\\site-packages\\keras\\engine\\input_spec.py\", line 232, in assert_input_compatibility\n        raise ValueError(\n\n    ValueError: Exception encountered when calling layer \"sequential_1\" \"                 f\"(type Sequential).\n    \n    Input 0 of layer \"bidirectional_1\" is incompatible with the layer: expected ndim=3, found ndim=2. Full shape received: (None, 300)\n    \n    Call arguments received by layer \"sequential_1\" \"                 f\"(type Sequential):\n      • inputs=tf.Tensor(shape=(None,), dtype=int32)\n      • training=False\n      • mask=None\n",
     "output_type": "error",
     "traceback": [
      "\u001b[1;31m---------------------------------------------------------------------------\u001b[0m",
      "\u001b[1;31mValueError\u001b[0m                                Traceback (most recent call last)",
      "\u001b[1;32m~\\AppData\\Local\\Temp\\ipykernel_13160\\1090965786.py\u001b[0m in \u001b[0;36m<module>\u001b[1;34m\u001b[0m\n\u001b[1;32m----> 1\u001b[1;33m \u001b[0mmodel\u001b[0m\u001b[1;33m.\u001b[0m\u001b[0mpredict\u001b[0m\u001b[1;33m(\u001b[0m\u001b[0mX_test\u001b[0m\u001b[1;33m[\u001b[0m\u001b[1;36m0\u001b[0m\u001b[1;33m]\u001b[0m\u001b[1;33m)\u001b[0m\u001b[1;33m\u001b[0m\u001b[1;33m\u001b[0m\u001b[0m\n\u001b[0m",
      "\u001b[1;32m~\\anaconda3\\lib\\site-packages\\keras\\utils\\traceback_utils.py\u001b[0m in \u001b[0;36merror_handler\u001b[1;34m(*args, **kwargs)\u001b[0m\n\u001b[0;32m     68\u001b[0m             \u001b[1;31m# To get the full stack trace, call:\u001b[0m\u001b[1;33m\u001b[0m\u001b[1;33m\u001b[0m\u001b[0m\n\u001b[0;32m     69\u001b[0m             \u001b[1;31m# `tf.debugging.disable_traceback_filtering()`\u001b[0m\u001b[1;33m\u001b[0m\u001b[1;33m\u001b[0m\u001b[0m\n\u001b[1;32m---> 70\u001b[1;33m             \u001b[1;32mraise\u001b[0m \u001b[0me\u001b[0m\u001b[1;33m.\u001b[0m\u001b[0mwith_traceback\u001b[0m\u001b[1;33m(\u001b[0m\u001b[0mfiltered_tb\u001b[0m\u001b[1;33m)\u001b[0m \u001b[1;32mfrom\u001b[0m \u001b[1;32mNone\u001b[0m\u001b[1;33m\u001b[0m\u001b[1;33m\u001b[0m\u001b[0m\n\u001b[0m\u001b[0;32m     71\u001b[0m         \u001b[1;32mfinally\u001b[0m\u001b[1;33m:\u001b[0m\u001b[1;33m\u001b[0m\u001b[1;33m\u001b[0m\u001b[0m\n\u001b[0;32m     72\u001b[0m             \u001b[1;32mdel\u001b[0m \u001b[0mfiltered_tb\u001b[0m\u001b[1;33m\u001b[0m\u001b[1;33m\u001b[0m\u001b[0m\n",
      "\u001b[1;32m~\\anaconda3\\lib\\site-packages\\keras\\engine\\training.py\u001b[0m in \u001b[0;36mtf__predict_function\u001b[1;34m(iterator)\u001b[0m\n\u001b[0;32m     13\u001b[0m                 \u001b[1;32mtry\u001b[0m\u001b[1;33m:\u001b[0m\u001b[1;33m\u001b[0m\u001b[1;33m\u001b[0m\u001b[0m\n\u001b[0;32m     14\u001b[0m                     \u001b[0mdo_return\u001b[0m \u001b[1;33m=\u001b[0m \u001b[1;32mTrue\u001b[0m\u001b[1;33m\u001b[0m\u001b[1;33m\u001b[0m\u001b[0m\n\u001b[1;32m---> 15\u001b[1;33m                     \u001b[0mretval_\u001b[0m \u001b[1;33m=\u001b[0m \u001b[0mag__\u001b[0m\u001b[1;33m.\u001b[0m\u001b[0mconverted_call\u001b[0m\u001b[1;33m(\u001b[0m\u001b[0mag__\u001b[0m\u001b[1;33m.\u001b[0m\u001b[0mld\u001b[0m\u001b[1;33m(\u001b[0m\u001b[0mstep_function\u001b[0m\u001b[1;33m)\u001b[0m\u001b[1;33m,\u001b[0m \u001b[1;33m(\u001b[0m\u001b[0mag__\u001b[0m\u001b[1;33m.\u001b[0m\u001b[0mld\u001b[0m\u001b[1;33m(\u001b[0m\u001b[0mself\u001b[0m\u001b[1;33m)\u001b[0m\u001b[1;33m,\u001b[0m \u001b[0mag__\u001b[0m\u001b[1;33m.\u001b[0m\u001b[0mld\u001b[0m\u001b[1;33m(\u001b[0m\u001b[0miterator\u001b[0m\u001b[1;33m)\u001b[0m\u001b[1;33m)\u001b[0m\u001b[1;33m,\u001b[0m \u001b[1;32mNone\u001b[0m\u001b[1;33m,\u001b[0m \u001b[0mfscope\u001b[0m\u001b[1;33m)\u001b[0m\u001b[1;33m\u001b[0m\u001b[1;33m\u001b[0m\u001b[0m\n\u001b[0m\u001b[0;32m     16\u001b[0m                 \u001b[1;32mexcept\u001b[0m\u001b[1;33m:\u001b[0m\u001b[1;33m\u001b[0m\u001b[1;33m\u001b[0m\u001b[0m\n\u001b[0;32m     17\u001b[0m                     \u001b[0mdo_return\u001b[0m \u001b[1;33m=\u001b[0m \u001b[1;32mFalse\u001b[0m\u001b[1;33m\u001b[0m\u001b[1;33m\u001b[0m\u001b[0m\n",
      "\u001b[1;31mValueError\u001b[0m: in user code:\n\n    File \"C:\\Users\\qiuji\\anaconda3\\lib\\site-packages\\keras\\engine\\training.py\", line 2041, in predict_function  *\n        return step_function(self, iterator)\n    File \"C:\\Users\\qiuji\\anaconda3\\lib\\site-packages\\keras\\engine\\training.py\", line 2027, in step_function  **\n        outputs = model.distribute_strategy.run(run_step, args=(data,))\n    File \"C:\\Users\\qiuji\\anaconda3\\lib\\site-packages\\keras\\engine\\training.py\", line 2015, in run_step  **\n        outputs = model.predict_step(data)\n    File \"C:\\Users\\qiuji\\anaconda3\\lib\\site-packages\\keras\\engine\\training.py\", line 1983, in predict_step\n        return self(x, training=False)\n    File \"C:\\Users\\qiuji\\anaconda3\\lib\\site-packages\\keras\\utils\\traceback_utils.py\", line 70, in error_handler\n        raise e.with_traceback(filtered_tb) from None\n    File \"C:\\Users\\qiuji\\anaconda3\\lib\\site-packages\\keras\\engine\\input_spec.py\", line 232, in assert_input_compatibility\n        raise ValueError(\n\n    ValueError: Exception encountered when calling layer \"sequential_1\" \"                 f\"(type Sequential).\n    \n    Input 0 of layer \"bidirectional_1\" is incompatible with the layer: expected ndim=3, found ndim=2. Full shape received: (None, 300)\n    \n    Call arguments received by layer \"sequential_1\" \"                 f\"(type Sequential):\n      • inputs=tf.Tensor(shape=(None,), dtype=int32)\n      • training=False\n      • mask=None\n"
     ]
    }
   ],
   "source": [
    "model.predict(X_test[0])"
   ]
  },
  {
   "cell_type": "code",
   "execution_count": 41,
   "id": "e64bbc83",
   "metadata": {},
   "outputs": [
    {
     "data": {
      "text/plain": [
       "array([0., 0., 0., 0., 0., 0., 0., 0., 0., 0., 0., 0., 0., 0., 0., 0., 0.,\n",
       "       1., 0., 0., 0., 0., 0., 0.], dtype=float32)"
      ]
     },
     "execution_count": 41,
     "metadata": {},
     "output_type": "execute_result"
    }
   ],
   "source": []
  },
  {
   "cell_type": "code",
   "execution_count": 33,
   "id": "507af5ec",
   "metadata": {},
   "outputs": [
    {
     "name": "stdout",
     "output_type": "stream",
     "text": [
      "157/157 [==============================] - 12s 74ms/step\n"
     ]
    }
   ],
   "source": [
    "from sklearn.metrics import *\n",
    "prediction_probas = model.predict(X_test) \n"
   ]
  },
  {
   "cell_type": "code",
   "execution_count": 40,
   "id": "2ba6a728",
   "metadata": {},
   "outputs": [
    {
     "data": {
      "text/plain": [
       "10"
      ]
     },
     "execution_count": 40,
     "metadata": {},
     "output_type": "execute_result"
    }
   ],
   "source": [
    "predictions[0]"
   ]
  },
  {
   "cell_type": "code",
   "execution_count": 38,
   "id": "e596bb0d",
   "metadata": {},
   "outputs": [
    {
     "name": "stdout",
     "output_type": "stream",
     "text": [
      "[[   0    0    0    0    0    1    0    0    0    2    0    0    0    0\n",
      "     0    0    0    0    0    0]\n",
      " [   0    0    0    0    0   25    0    0    0    3    0    0    0    0\n",
      "     0    1    0    0    0    0]\n",
      " [   0    0    0    0    0    8    0    0    0    4    0    0    0    0\n",
      "     0    0    0    0    0    0]\n",
      " [   0    0    0    0    0    4    0    0    0   25    0    0    0    0\n",
      "     0    0    0    0    0    0]\n",
      " [   0    0    0    0    0   10    0    0    0    3    0    0    0    0\n",
      "     0    0    0    0    0    0]\n",
      " [   0    0    0    0    0  291    0    0    0   64    0    0    0    0\n",
      "     1    4    0    0    0    0]\n",
      " [   0    0    0    0    0    1    7    0    0  140    0    0    0    0\n",
      "     8    0    0    0    0    0]\n",
      " [   0    0    0    0    0    0   17    0    0  118    0    0    0    0\n",
      "     6    1    0    0    0    0]\n",
      " [   0    0    0    0    0    3    2    0    0  247    0    0    0    0\n",
      "    14    2    0    0    0    0]\n",
      " [   0    0    0    0    0   27    5    0    0 2496    0    0    0    0\n",
      "    11   51    0    0    0    0]\n",
      " [   0    0    0    0    0    0    0    0    0  167    0    0    0    0\n",
      "     0    3    0    0    0    0]\n",
      " [   0    0    0    0    0    5    0    0    0   52    0    0    0    0\n",
      "     6    5    0    0    0    0]\n",
      " [   0    0    0    0    0    0    0    0    0    1    0    0    0    0\n",
      "     0    0    0    0    0    0]\n",
      " [   0    0    0    0    0    5    0    0    0   20    0    0    0    0\n",
      "     0    6    0    0    0    0]\n",
      " [   0    0    0    0    0   10    0    0    0  243    0    0    0    0\n",
      "   198    2    0    0    0    0]\n",
      " [   0    0    0    0    0   14    0    0    0  158    0    0    0    0\n",
      "     4  317    0    0    0    0]\n",
      " [   0    0    0    0    0    7    0    0    0  106    0    0    0    0\n",
      "     8   39    0    0    0    0]\n",
      " [   0    0    0    0    0    0    0    0    0    5    0    0    0    0\n",
      "     0    0    0    0    0    0]\n",
      " [   0    0    0    0    0    0    0    0    0    2    0    0    0    0\n",
      "     0    2    0    0    0    0]\n",
      " [   0    0    0    0    0    0    0    0    0   12    0    0    0    0\n",
      "     0    1    0    0    0    0]]\n",
      "              precision    recall  f1-score   support\n",
      "\n",
      "           0      0.000     0.000     0.000         3\n",
      "           1      0.000     0.000     0.000        29\n",
      "           3      0.000     0.000     0.000        12\n",
      "           4      0.000     0.000     0.000        29\n",
      "           5      0.000     0.000     0.000        13\n",
      "           6      0.708     0.808     0.755       360\n",
      "           7      0.226     0.045     0.075       156\n",
      "           8      0.000     0.000     0.000       142\n",
      "           9      0.000     0.000     0.000       268\n",
      "          10      0.645     0.964     0.773      2590\n",
      "          11      0.000     0.000     0.000       170\n",
      "          12      0.000     0.000     0.000        68\n",
      "          14      0.000     0.000     0.000         1\n",
      "          15      0.000     0.000     0.000        31\n",
      "          17      0.773     0.437     0.559       453\n",
      "          18      0.730     0.643     0.684       493\n",
      "          19      0.000     0.000     0.000       160\n",
      "          21      0.000     0.000     0.000         5\n",
      "          22      0.000     0.000     0.000         4\n",
      "          23      0.000     0.000     0.000        13\n",
      "\n",
      "    accuracy                          0.662      5000\n",
      "   macro avg      0.154     0.145     0.142      5000\n",
      "weighted avg      0.534     0.662     0.575      5000\n",
      "\n"
     ]
    },
    {
     "name": "stderr",
     "output_type": "stream",
     "text": [
      "C:\\Users\\qiuji\\anaconda3\\lib\\site-packages\\sklearn\\metrics\\_classification.py:1318: UndefinedMetricWarning: Precision and F-score are ill-defined and being set to 0.0 in labels with no predicted samples. Use `zero_division` parameter to control this behavior.\n",
      "  _warn_prf(average, modifier, msg_start, len(result))\n",
      "C:\\Users\\qiuji\\anaconda3\\lib\\site-packages\\sklearn\\metrics\\_classification.py:1318: UndefinedMetricWarning: Precision and F-score are ill-defined and being set to 0.0 in labels with no predicted samples. Use `zero_division` parameter to control this behavior.\n",
      "  _warn_prf(average, modifier, msg_start, len(result))\n",
      "C:\\Users\\qiuji\\anaconda3\\lib\\site-packages\\sklearn\\metrics\\_classification.py:1318: UndefinedMetricWarning: Precision and F-score are ill-defined and being set to 0.0 in labels with no predicted samples. Use `zero_division` parameter to control this behavior.\n",
      "  _warn_prf(average, modifier, msg_start, len(result))\n"
     ]
    }
   ],
   "source": [
    "import numpy as np\n",
    "from sklearn.metrics import confusion_matrix\n",
    "predictions = [np.argmax(pred) for pred in prediction_probas]\n",
    "digit_y = [np.argmax(i)for i in y_test]\n",
    "print(confusion_matrix(digit_y, predictions)) #from sklearn.metrics\n",
    "print(classification_report(digit_y, predictions, digits=3))"
   ]
  },
  {
   "cell_type": "code",
   "execution_count": 43,
   "id": "910caf97",
   "metadata": {},
   "outputs": [],
   "source": [
    "import seaborn as sns\n",
    "import matplotlib.pyplot as plt\n",
    "\n"
   ]
  },
  {
   "cell_type": "code",
   "execution_count": 44,
   "id": "c6b782f3",
   "metadata": {},
   "outputs": [
    {
     "ename": "IndexError",
     "evalue": "index 20 is out of bounds for axis 0 with size 20",
     "output_type": "error",
     "traceback": [
      "\u001b[1;31m---------------------------------------------------------------------------\u001b[0m",
      "\u001b[1;31mIndexError\u001b[0m                                Traceback (most recent call last)",
      "\u001b[1;32m~\\AppData\\Local\\Temp\\ipykernel_13160\\2569969858.py\u001b[0m in \u001b[0;36m<module>\u001b[1;34m\u001b[0m\n\u001b[0;32m      4\u001b[0m   \u001b[0mx\u001b[0m\u001b[1;33m=\u001b[0m\u001b[1;33m[\u001b[0m\u001b[1;33m]\u001b[0m\u001b[1;33m\u001b[0m\u001b[1;33m\u001b[0m\u001b[0m\n\u001b[0;32m      5\u001b[0m   \u001b[1;32mfor\u001b[0m \u001b[0mj\u001b[0m \u001b[1;32min\u001b[0m \u001b[0mrange\u001b[0m\u001b[1;33m(\u001b[0m\u001b[1;36m24\u001b[0m\u001b[1;33m)\u001b[0m\u001b[1;33m:\u001b[0m\u001b[1;33m\u001b[0m\u001b[1;33m\u001b[0m\u001b[0m\n\u001b[1;32m----> 6\u001b[1;33m     \u001b[0mx\u001b[0m\u001b[1;33m.\u001b[0m\u001b[0mappend\u001b[0m\u001b[1;33m(\u001b[0m\u001b[0mstr\u001b[0m\u001b[1;33m(\u001b[0m\u001b[0mdata\u001b[0m\u001b[1;33m[\u001b[0m\u001b[0mi\u001b[0m\u001b[1;33m]\u001b[0m\u001b[1;33m[\u001b[0m\u001b[0mj\u001b[0m\u001b[1;33m]\u001b[0m\u001b[1;33m)\u001b[0m\u001b[1;33m)\u001b[0m\u001b[1;33m\u001b[0m\u001b[1;33m\u001b[0m\u001b[0m\n\u001b[0m\u001b[0;32m      7\u001b[0m   \u001b[0mtext_str\u001b[0m\u001b[1;33m.\u001b[0m\u001b[0mappend\u001b[0m\u001b[1;33m(\u001b[0m\u001b[0mx\u001b[0m\u001b[1;33m)\u001b[0m\u001b[1;33m\u001b[0m\u001b[1;33m\u001b[0m\u001b[0m\n\u001b[0;32m      8\u001b[0m \u001b[1;33m\u001b[0m\u001b[0m\n",
      "\u001b[1;31mIndexError\u001b[0m: index 20 is out of bounds for axis 0 with size 20"
     ]
    }
   ],
   "source": [
    "text_str=[]\n",
    "data = confusion_matrix(digit_y, predictions)\n",
    "for i in range(24):\n",
    "  x=[]\n",
    "  for j in range(24):\n",
    "    x.append(str(data[i][j]))\n",
    "  text_str.append(x)\n",
    "\n",
    "\n",
    "ax = sns.heatmap(data, cmap='RdYlGn',vmin=0, vmax=5**3, annot=text_str,fmt=\"\")\n",
    "\n",
    "xxx = [i for i in range(24)]\n",
    "xxxs = [str(i) for i in range(24)]\n",
    "plt.xticks(xxx,xxxs,rotation=45)\n",
    "plt.yticks(xxx,('0','1','2','3','4','5','6','7','8','9','10','11','12','13','14','15','16','17','18','19','20','21','22','23'),rotation=45)\n",
    "\n",
    "#We are imagining that the squares in the heat-map are function values corresponding to domain points, [20,40,60,80]x[100,200,300]\n",
    "plt.title(\"Heatmap Plot Title\")\n",
    "plt.xlabel(\"X-axis Labels\")\n",
    "plt.ylabel(\"Y-axes Labels\")\n",
    "\n",
    "\n",
    "plt.show()\n"
   ]
  },
  {
   "cell_type": "code",
   "execution_count": 46,
   "id": "e643a9f8",
   "metadata": {},
   "outputs": [
    {
     "data": {
      "text/plain": [
       "array([[   0,    0,    0,    0,    0,    1,    0,    0,    0,    2,    0,\n",
       "           0,    0,    0,    0,    0,    0,    0,    0,    0],\n",
       "       [   0,    0,    0,    0,    0,   25,    0,    0,    0,    3,    0,\n",
       "           0,    0,    0,    0,    1,    0,    0,    0,    0],\n",
       "       [   0,    0,    0,    0,    0,    8,    0,    0,    0,    4,    0,\n",
       "           0,    0,    0,    0,    0,    0,    0,    0,    0],\n",
       "       [   0,    0,    0,    0,    0,    4,    0,    0,    0,   25,    0,\n",
       "           0,    0,    0,    0,    0,    0,    0,    0,    0],\n",
       "       [   0,    0,    0,    0,    0,   10,    0,    0,    0,    3,    0,\n",
       "           0,    0,    0,    0,    0,    0,    0,    0,    0],\n",
       "       [   0,    0,    0,    0,    0,  291,    0,    0,    0,   64,    0,\n",
       "           0,    0,    0,    1,    4,    0,    0,    0,    0],\n",
       "       [   0,    0,    0,    0,    0,    1,    7,    0,    0,  140,    0,\n",
       "           0,    0,    0,    8,    0,    0,    0,    0,    0],\n",
       "       [   0,    0,    0,    0,    0,    0,   17,    0,    0,  118,    0,\n",
       "           0,    0,    0,    6,    1,    0,    0,    0,    0],\n",
       "       [   0,    0,    0,    0,    0,    3,    2,    0,    0,  247,    0,\n",
       "           0,    0,    0,   14,    2,    0,    0,    0,    0],\n",
       "       [   0,    0,    0,    0,    0,   27,    5,    0,    0, 2496,    0,\n",
       "           0,    0,    0,   11,   51,    0,    0,    0,    0],\n",
       "       [   0,    0,    0,    0,    0,    0,    0,    0,    0,  167,    0,\n",
       "           0,    0,    0,    0,    3,    0,    0,    0,    0],\n",
       "       [   0,    0,    0,    0,    0,    5,    0,    0,    0,   52,    0,\n",
       "           0,    0,    0,    6,    5,    0,    0,    0,    0],\n",
       "       [   0,    0,    0,    0,    0,    0,    0,    0,    0,    1,    0,\n",
       "           0,    0,    0,    0,    0,    0,    0,    0,    0],\n",
       "       [   0,    0,    0,    0,    0,    5,    0,    0,    0,   20,    0,\n",
       "           0,    0,    0,    0,    6,    0,    0,    0,    0],\n",
       "       [   0,    0,    0,    0,    0,   10,    0,    0,    0,  243,    0,\n",
       "           0,    0,    0,  198,    2,    0,    0,    0,    0],\n",
       "       [   0,    0,    0,    0,    0,   14,    0,    0,    0,  158,    0,\n",
       "           0,    0,    0,    4,  317,    0,    0,    0,    0],\n",
       "       [   0,    0,    0,    0,    0,    7,    0,    0,    0,  106,    0,\n",
       "           0,    0,    0,    8,   39,    0,    0,    0,    0],\n",
       "       [   0,    0,    0,    0,    0,    0,    0,    0,    0,    5,    0,\n",
       "           0,    0,    0,    0,    0,    0,    0,    0,    0],\n",
       "       [   0,    0,    0,    0,    0,    0,    0,    0,    0,    2,    0,\n",
       "           0,    0,    0,    0,    2,    0,    0,    0,    0],\n",
       "       [   0,    0,    0,    0,    0,    0,    0,    0,    0,   12,    0,\n",
       "           0,    0,    0,    0,    1,    0,    0,    0,    0]],\n",
       "      dtype=int64)"
      ]
     },
     "execution_count": 46,
     "metadata": {},
     "output_type": "execute_result"
    }
   ],
   "source": [
    "data"
   ]
  },
  {
   "cell_type": "code",
   "execution_count": null,
   "id": "4f8eb765",
   "metadata": {},
   "outputs": [],
   "source": []
  }
 ],
 "metadata": {
  "kernelspec": {
   "display_name": "Python 3 (ipykernel)",
   "language": "python",
   "name": "python3"
  },
  "language_info": {
   "codemirror_mode": {
    "name": "ipython",
    "version": 3
   },
   "file_extension": ".py",
   "mimetype": "text/x-python",
   "name": "python",
   "nbconvert_exporter": "python",
   "pygments_lexer": "ipython3",
   "version": "3.9.13"
  }
 },
 "nbformat": 4,
 "nbformat_minor": 5
}
