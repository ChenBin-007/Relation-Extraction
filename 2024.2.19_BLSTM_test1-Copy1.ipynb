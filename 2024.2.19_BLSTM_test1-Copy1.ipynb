{
 "cells": [
  {
   "cell_type": "markdown",
   "id": "e1d74285",
   "metadata": {},
   "source": [
    "### Brief data analysis "
   ]
  },
  {
   "cell_type": "code",
   "execution_count": 1,
   "id": "86645b0d",
   "metadata": {},
   "outputs": [],
   "source": [
    "import pandas as pd\n",
    "import tensorflow as tf\n",
    "import json\n",
    "from pandas.core.frame import DataFrame\n",
    "\n",
    "from keras.preprocessing.text import Tokenizer\n",
    "from tensorflow.keras.preprocessing.sequence import pad_sequences\n",
    "from tensorflow.python.keras.utils.np_utils import to_categorical\n"
   ]
  },
  {
   "cell_type": "code",
   "execution_count": 2,
   "id": "cf5f6fcb",
   "metadata": {},
   "outputs": [
    {
     "data": {
      "text/plain": [
       "'2.10.0'"
      ]
     },
     "execution_count": 2,
     "metadata": {},
     "output_type": "execute_result"
    }
   ],
   "source": [
    "import tensorflow as tf\n",
    "tf.__version__\n"
   ]
  },
  {
   "cell_type": "code",
   "execution_count": 3,
   "id": "28bb5a4f",
   "metadata": {},
   "outputs": [
    {
     "name": "stdout",
     "output_type": "stream",
     "text": [
      "[PhysicalDevice(name='/physical_device:GPU:0', device_type='GPU')]\n"
     ]
    }
   ],
   "source": [
    "gpus = tf.config.list_physical_devices('GPU')\n",
    "print(gpus)"
   ]
  },
  {
   "cell_type": "code",
   "execution_count": 5,
   "id": "cf00252d",
   "metadata": {},
   "outputs": [],
   "source": [
    "tf.debugging.set_log_device_placement(True)"
   ]
  },
  {
   "cell_type": "code",
   "execution_count": 4,
   "id": "748f0bcc",
   "metadata": {},
   "outputs": [
    {
     "data": {
      "text/html": [
       "<div>\n",
       "<style scoped>\n",
       "    .dataframe tbody tr th:only-of-type {\n",
       "        vertical-align: middle;\n",
       "    }\n",
       "\n",
       "    .dataframe tbody tr th {\n",
       "        vertical-align: top;\n",
       "    }\n",
       "\n",
       "    .dataframe thead th {\n",
       "        text-align: right;\n",
       "    }\n",
       "</style>\n",
       "<table border=\"1\" class=\"dataframe\">\n",
       "  <thead>\n",
       "    <tr style=\"text-align: right;\">\n",
       "      <th></th>\n",
       "      <th>text</th>\n",
       "      <th>id</th>\n",
       "      <th>relation_list</th>\n",
       "      <th>entity_list</th>\n",
       "    </tr>\n",
       "  </thead>\n",
       "  <tbody>\n",
       "    <tr>\n",
       "      <th>0</th>\n",
       "      <td>Massachusetts ASTON MAGNA Great Barrington ; a...</td>\n",
       "      <td>train_0</td>\n",
       "      <td>[{'subject': 'Annandale-on-Hudson', 'object': ...</td>\n",
       "      <td>[{'text': 'Annandale-on-Hudson', 'type': 'DEFA...</td>\n",
       "    </tr>\n",
       "    <tr>\n",
       "      <th>1</th>\n",
       "      <td>North Carolina EASTERN MUSIC FESTIVAL Greensbo...</td>\n",
       "      <td>train_1</td>\n",
       "      <td>[{'subject': 'North Carolina', 'object': 'Gree...</td>\n",
       "      <td>[{'text': 'North Carolina', 'type': 'DEFAULT',...</td>\n",
       "    </tr>\n",
       "    <tr>\n",
       "      <th>2</th>\n",
       "      <td>It will be the final movie credited to Debra H...</td>\n",
       "      <td>train_2</td>\n",
       "      <td>[{'subject': 'Debra Hill', 'object': 'Haddonfi...</td>\n",
       "      <td>[{'text': 'Debra Hill', 'type': 'DEFAULT', 'ch...</td>\n",
       "    </tr>\n",
       "    <tr>\n",
       "      <th>3</th>\n",
       "      <td>In a 3-0 victory over the Crew on Saturday in ...</td>\n",
       "      <td>train_3</td>\n",
       "      <td>[{'subject': 'Ohio', 'object': 'Columbus', 'su...</td>\n",
       "      <td>[{'text': 'Ohio', 'type': 'DEFAULT', 'char_spa...</td>\n",
       "    </tr>\n",
       "    <tr>\n",
       "      <th>4</th>\n",
       "      <td>The United States ambassador to Mexico , Tony ...</td>\n",
       "      <td>train_4</td>\n",
       "      <td>[{'subject': 'Mexico', 'object': 'Nuevo Laredo...</td>\n",
       "      <td>[{'text': 'Mexico', 'type': 'DEFAULT', 'char_s...</td>\n",
       "    </tr>\n",
       "    <tr>\n",
       "      <th>...</th>\n",
       "      <td>...</td>\n",
       "      <td>...</td>\n",
       "      <td>...</td>\n",
       "      <td>...</td>\n",
       "    </tr>\n",
       "    <tr>\n",
       "      <th>56191</th>\n",
       "      <td>Tanna 's big draw is Mount Yasur , one of the ...</td>\n",
       "      <td>train_56191</td>\n",
       "      <td>[{'subject': 'Tanna', 'object': 'Mount Yasur',...</td>\n",
       "      <td>[{'text': 'Tanna', 'type': 'DEFAULT', 'char_sp...</td>\n",
       "    </tr>\n",
       "    <tr>\n",
       "      <th>56192</th>\n",
       "      <td>We flew Air Pacific -LRB- 800-227-4446 ; www.a...</td>\n",
       "      <td>train_56192</td>\n",
       "      <td>[{'subject': 'Vanuatu', 'object': 'Port Vila',...</td>\n",
       "      <td>[{'text': 'Vanuatu', 'type': 'DEFAULT', 'char_...</td>\n",
       "    </tr>\n",
       "    <tr>\n",
       "      <th>56193</th>\n",
       "      <td>I think Westchester is changing , '' said Kenn...</td>\n",
       "      <td>train_56193</td>\n",
       "      <td>[{'subject': 'Kenneth T. Jackson', 'object': '...</td>\n",
       "      <td>[{'text': 'Kenneth T. Jackson', 'type': 'DEFAU...</td>\n",
       "    </tr>\n",
       "    <tr>\n",
       "      <th>56194</th>\n",
       "      <td>Here we have a 172-acre island with four-star ...</td>\n",
       "      <td>train_56194</td>\n",
       "      <td>[{'subject': 'Ellis Island', 'object': 'Manhat...</td>\n",
       "      <td>[{'text': 'Ellis Island', 'type': 'DEFAULT', '...</td>\n",
       "    </tr>\n",
       "    <tr>\n",
       "      <th>56195</th>\n",
       "      <td>One was for St. Francis de Sales Roman Catholi...</td>\n",
       "      <td>train_56195</td>\n",
       "      <td>[{'subject': 'Belle Harbor', 'object': 'Queens...</td>\n",
       "      <td>[{'text': 'Belle Harbor', 'type': 'DEFAULT', '...</td>\n",
       "    </tr>\n",
       "  </tbody>\n",
       "</table>\n",
       "<p>56196 rows × 4 columns</p>\n",
       "</div>"
      ],
      "text/plain": [
       "                                                    text           id  \\\n",
       "0      Massachusetts ASTON MAGNA Great Barrington ; a...      train_0   \n",
       "1      North Carolina EASTERN MUSIC FESTIVAL Greensbo...      train_1   \n",
       "2      It will be the final movie credited to Debra H...      train_2   \n",
       "3      In a 3-0 victory over the Crew on Saturday in ...      train_3   \n",
       "4      The United States ambassador to Mexico , Tony ...      train_4   \n",
       "...                                                  ...          ...   \n",
       "56191  Tanna 's big draw is Mount Yasur , one of the ...  train_56191   \n",
       "56192  We flew Air Pacific -LRB- 800-227-4446 ; www.a...  train_56192   \n",
       "56193  I think Westchester is changing , '' said Kenn...  train_56193   \n",
       "56194  Here we have a 172-acre island with four-star ...  train_56194   \n",
       "56195  One was for St. Francis de Sales Roman Catholi...  train_56195   \n",
       "\n",
       "                                           relation_list  \\\n",
       "0      [{'subject': 'Annandale-on-Hudson', 'object': ...   \n",
       "1      [{'subject': 'North Carolina', 'object': 'Gree...   \n",
       "2      [{'subject': 'Debra Hill', 'object': 'Haddonfi...   \n",
       "3      [{'subject': 'Ohio', 'object': 'Columbus', 'su...   \n",
       "4      [{'subject': 'Mexico', 'object': 'Nuevo Laredo...   \n",
       "...                                                  ...   \n",
       "56191  [{'subject': 'Tanna', 'object': 'Mount Yasur',...   \n",
       "56192  [{'subject': 'Vanuatu', 'object': 'Port Vila',...   \n",
       "56193  [{'subject': 'Kenneth T. Jackson', 'object': '...   \n",
       "56194  [{'subject': 'Ellis Island', 'object': 'Manhat...   \n",
       "56195  [{'subject': 'Belle Harbor', 'object': 'Queens...   \n",
       "\n",
       "                                             entity_list  \n",
       "0      [{'text': 'Annandale-on-Hudson', 'type': 'DEFA...  \n",
       "1      [{'text': 'North Carolina', 'type': 'DEFAULT',...  \n",
       "2      [{'text': 'Debra Hill', 'type': 'DEFAULT', 'ch...  \n",
       "3      [{'text': 'Ohio', 'type': 'DEFAULT', 'char_spa...  \n",
       "4      [{'text': 'Mexico', 'type': 'DEFAULT', 'char_s...  \n",
       "...                                                  ...  \n",
       "56191  [{'text': 'Tanna', 'type': 'DEFAULT', 'char_sp...  \n",
       "56192  [{'text': 'Vanuatu', 'type': 'DEFAULT', 'char_...  \n",
       "56193  [{'text': 'Kenneth T. Jackson', 'type': 'DEFAU...  \n",
       "56194  [{'text': 'Ellis Island', 'type': 'DEFAULT', '...  \n",
       "56195  [{'text': 'Belle Harbor', 'type': 'DEFAULT', '...  \n",
       "\n",
       "[56196 rows x 4 columns]"
      ]
     },
     "execution_count": 4,
     "metadata": {},
     "output_type": "execute_result"
    }
   ],
   "source": [
    "df = pd.read_json(\"train_data.json\",encoding=\"utf-8\", orient='records')\n",
    "df"
   ]
  },
  {
   "cell_type": "code",
   "execution_count": 5,
   "id": "dabc7dac",
   "metadata": {},
   "outputs": [
    {
     "data": {
      "text/plain": [
       "35th Avenue at 36th Street , Astoria , Queens , (718) 784-0077 ; $ 10 .                                                                                                                                                                  31\n",
       "This prodigious show , by an artist born and still living in Columbus , Ohio , celebrates her heritage in paintings , drawings , sculpture , stitchery , leather work and less classifiable forms of expression .                        20\n",
       "22-25 Jackson Avenue , at 46th Avenue , Long Island City , Queens , (718)784-2084 .                                                                                                                                                      17\n",
       "BAM Rose Cinemas , 30 Lafayette Avenue , at Ashland Place , Fort Greene , Brooklyn , (718) 636-4100 ; $ 10 .                                                                                                                             16\n",
       "MUSEUM OF THE MOVING IMAGE , 36-01 35th Avenue , Astoria , Queens .                                                                                                                                                                      15\n",
       "                                                                                                                                                                                                                                         ..\n",
       "VELISKAKIS -- Konstantin P. -LRB- aka Kostas P. Velis , M.D. -RRB- left us on November 14 , 2005 at his home in New York City , of Hellenic ethnic descent , father Dr. Protesilaos Veliskakis , mother Athina of Athens , Greece .       1\n",
       "The president , who is scheduled to travel to Europe next month , rejected the suggestion that relations with Europe , particularly with Germany and France , are badly frayed after the split over the Iraq war . ''                     1\n",
       "He later drew Iraq into a broader plan for democracy in the Middle East . ''                                                                                                                                                              1\n",
       "A native of a Chicago suburb who worked alongside Joe Mantegna at the Organic Theater Company in that city he picked up some local movie work in the 1970 's , and slowly made his way to Hollywood .                                     1\n",
       "One was for St. Francis de Sales Roman Catholic Church in Belle Harbor ; another board studded with electromechanical magnets will go under the pipes of an organ at the Evangelical Lutheran Church of Christ in Rosedale , Queens .     1\n",
       "Name: text, Length: 54643, dtype: int64"
      ]
     },
     "execution_count": 5,
     "metadata": {},
     "output_type": "execute_result"
    }
   ],
   "source": [
    "df[\"text\"].value_counts()"
   ]
  },
  {
   "cell_type": "code",
   "execution_count": 30,
   "id": "39dc07e1",
   "metadata": {},
   "outputs": [],
   "source": [
    "n_most_common_words =30000"
   ]
  },
  {
   "cell_type": "markdown",
   "id": "e73f227c",
   "metadata": {},
   "source": [
    "### Data preprocess"
   ]
  },
  {
   "cell_type": "code",
   "execution_count": 31,
   "id": "9251caf7",
   "metadata": {},
   "outputs": [],
   "source": [
    "def data_process(train_file,valid_file,test_file,n_most_common_words):\n",
    "    \n",
    "    #tf.debugging.set_log_device_placement(True)\n",
    "    df = pd.read_json(train_file,encoding=\"utf-8\", orient='records')\n",
    "    with open(\"rel2id.json\",\"r\") as f:\n",
    "        rel2id = json.load(f)\n",
    "        id2rel = {k:v for k, v in rel2id.items()}\n",
    "        num_classes = len(rel2id)\n",
    "        \n",
    "        \n",
    "    #n_most_common_words = 50000 # vocabulary size\n",
    "    max_len = 100\n",
    "# Initialization\n",
    "    tokenizer = Tokenizer(num_words=n_most_common_words, filters='!\"#$%&()*+,-./:;=?@[]^_`{|}~', lower=True)\n",
    "    tokenizer.fit_on_texts(df['text'].values)\n",
    "    print(len(tokenizer.word_index) + 1)\n",
    "    \n",
    "    X_train = input_process(tokenizer,df,max_len)\n",
    "    label_train = label_process(df,id2rel)\n",
    "    \n",
    "    df_valid = pd.read_json(valid_file,encoding=\"utf-8\", orient='records')\n",
    "    X_valid = input_process(tokenizer,df_valid,max_len)\n",
    "    label_valid = label_process(df_valid,id2rel)\n",
    "    \n",
    "    df_test = pd.read_json(test_file,encoding=\"utf-8\", orient='records')\n",
    "    X_test = input_process(tokenizer,df_test,max_len)\n",
    "    label_test = label_process(df_test,id2rel)\n",
    "    \n",
    "\n",
    "    \n",
    "    return X_train, label_train, X_valid, label_valid, X_test, label_test \n",
    "\n",
    "def input_process(tokenizer,df,max_len):\n",
    "    sequences = tokenizer.texts_to_sequences(df['text'].values)\n",
    "    #word_index = tokenizer.word_index\n",
    "    X = pad_sequences(sequences, maxlen=max_len)\n",
    "    return X\n",
    "\n",
    "def label_process(df_object,relate_label):\n",
    "    label=[df_object[\"relation_list\"][i][0][\"predicate\"] for i in range(df_object.shape[0])]\n",
    "    train_label = [relate_label[i] for i in label]\n",
    "    labels=DataFrame(train_label)\n",
    "    labels = to_categorical(labels, num_classes=24)\n",
    "    return labels\n",
    "    "
   ]
  },
  {
   "cell_type": "code",
   "execution_count": 32,
   "id": "32f9a37b",
   "metadata": {},
   "outputs": [
    {
     "name": "stdout",
     "output_type": "stream",
     "text": [
      "64179\n"
     ]
    }
   ],
   "source": [
    "X_train, y_train, X_validation, y_validation,X_test,y_test = data_process(\"train_data.json\",\"valid_data.json\",\"test_data.json\", n_most_common_words)"
   ]
  },
  {
   "cell_type": "code",
   "execution_count": 16,
   "id": "59025fcc",
   "metadata": {},
   "outputs": [
    {
     "name": "stdout",
     "output_type": "stream",
     "text": [
      "0\n"
     ]
    }
   ],
   "source": [
    "import numpy as np\n",
    "total = 0\n",
    "for i in X_train:\n",
    "    number = np.count_nonzero(i > 0)\n",
    "    if(number == 100):\n",
    "        total+=1\n",
    "print(total)"
   ]
  },
  {
   "cell_type": "code",
   "execution_count": 34,
   "id": "be7b89b4",
   "metadata": {},
   "outputs": [
    {
     "data": {
      "text/plain": [
       "(56196, 24)"
      ]
     },
     "execution_count": 34,
     "metadata": {},
     "output_type": "execute_result"
    }
   ],
   "source": [
    "y_train.shape"
   ]
  },
  {
   "cell_type": "code",
   "execution_count": 33,
   "id": "b53e5398",
   "metadata": {},
   "outputs": [],
   "source": [
    "from keras import Sequential\n",
    "from keras.layers import *\n",
    "def generate_model(embedding_size, n_most_common_words, output, learning_rate):\n",
    "    model = Sequential()\n",
    "    model.add(Embedding(n_most_common_words, embedding_size, input_length=X_train.shape[1]))\n",
    "    model.add(Bidirectional(LSTM(output, dropout=0.5, recurrent_dropout=0.5)))\n",
    "    model.add(Dense(y_train.shape[1], activation='relu'))\n",
    "    model.compile(tf.keras.optimizers.Adam(lr = learning_rate),loss='categorical_crossentropy', metrics=['acc'])\n",
    "    print(model.summary())\n",
    "    return model"
   ]
  },
  {
   "cell_type": "code",
   "execution_count": 35,
   "id": "02294812",
   "metadata": {},
   "outputs": [
    {
     "name": "stdout",
     "output_type": "stream",
     "text": [
      "WARNING:tensorflow:Layer lstm_2 will not use cuDNN kernels since it doesn't meet the criteria. It will use a generic GPU kernel as fallback when running on GPU.\n",
      "WARNING:tensorflow:Layer lstm_2 will not use cuDNN kernels since it doesn't meet the criteria. It will use a generic GPU kernel as fallback when running on GPU.\n",
      "WARNING:tensorflow:Layer lstm_2 will not use cuDNN kernels since it doesn't meet the criteria. It will use a generic GPU kernel as fallback when running on GPU.\n",
      "Model: \"sequential_2\"\n",
      "_________________________________________________________________\n",
      " Layer (type)                Output Shape              Param #   \n",
      "=================================================================\n",
      " embedding_2 (Embedding)     (None, 100, 100)          3000000   \n",
      "                                                                 \n",
      " bidirectional_2 (Bidirectio  (None, 256)              234496    \n",
      " nal)                                                            \n",
      "                                                                 \n",
      " dense_2 (Dense)             (None, 24)                6168      \n",
      "                                                                 \n",
      "=================================================================\n",
      "Total params: 3,240,664\n",
      "Trainable params: 3,240,664\n",
      "Non-trainable params: 0\n",
      "_________________________________________________________________\n",
      "None\n"
     ]
    },
    {
     "name": "stderr",
     "output_type": "stream",
     "text": [
      "C:\\Users\\qiuji\\anaconda3\\lib\\site-packages\\keras\\optimizers\\optimizer_v2\\adam.py:114: UserWarning: The `lr` argument is deprecated, use `learning_rate` instead.\n",
      "  super().__init__(name, **kwargs)\n"
     ]
    }
   ],
   "source": [
    "model = generate_model(100,n_most_common_words,128,0.001)"
   ]
  },
  {
   "cell_type": "code",
   "execution_count": null,
   "id": "e3aad36a",
   "metadata": {},
   "outputs": [],
   "source": [
    "lr_set = []"
   ]
  },
  {
   "cell_type": "code",
   "execution_count": 36,
   "id": "6a0c0fd7",
   "metadata": {},
   "outputs": [],
   "source": [
    "import os\n",
    "os.environ[\"TF_FORCE_GPU_ALLOW_GROWTH\"] = \"true\""
   ]
  },
  {
   "cell_type": "code",
   "execution_count": 37,
   "id": "6d343a08",
   "metadata": {},
   "outputs": [
    {
     "name": "stdout",
     "output_type": "stream",
     "text": [
      "True\n",
      "[PhysicalDevice(name='/physical_device:GPU:0', device_type='GPU')]\n",
      "[name: \"/device:CPU:0\"\n",
      "device_type: \"CPU\"\n",
      "memory_limit: 268435456\n",
      "locality {\n",
      "}\n",
      "incarnation: 4848012800028890172\n",
      "xla_global_id: -1\n",
      ", name: \"/device:GPU:0\"\n",
      "device_type: \"GPU\"\n",
      "memory_limit: 5717884928\n",
      "locality {\n",
      "  bus_id: 1\n",
      "  links {\n",
      "  }\n",
      "}\n",
      "incarnation: 13882482248138388141\n",
      "physical_device_desc: \"device: 0, name: NVIDIA GeForce RTX 4060 Laptop GPU, pci bus id: 0000:01:00.0, compute capability: 8.9\"\n",
      "xla_global_id: 416903419\n",
      "]\n"
     ]
    }
   ],
   "source": [
    "from tensorflow.python.client import device_lib\n",
    "print(tf.test.is_built_with_cuda())\n",
    "gpus = tf.config.experimental.list_physical_devices(device_type='GPU')\n",
    "print(gpus)\n",
    "\n",
    " \n",
    " \n",
    "print(device_lib.list_local_devices())"
   ]
  },
  {
   "cell_type": "code",
   "execution_count": 38,
   "id": "72cb3106",
   "metadata": {},
   "outputs": [
    {
     "name": "stdout",
     "output_type": "stream",
     "text": [
      "Epoch 1/10\n",
      "440/440 [==============================] - 330s 734ms/step - loss: 2.3974 - acc: 0.5252 - val_loss: 2.5288 - val_acc: 0.5266\n",
      "Epoch 2/10\n",
      "440/440 [==============================] - 330s 751ms/step - loss: 2.3444 - acc: 0.5382 - val_loss: 1.9063 - val_acc: 0.5266\n",
      "Epoch 3/10\n",
      "440/440 [==============================] - 324s 737ms/step - loss: 1.8236 - acc: 0.5429 - val_loss: 1.7379 - val_acc: 0.5656\n",
      "Epoch 4/10\n",
      "440/440 [==============================] - 329s 747ms/step - loss: 1.5990 - acc: 0.6024 - val_loss: 1.6810 - val_acc: 0.5772\n",
      "Epoch 5/10\n",
      "440/440 [==============================] - 334s 758ms/step - loss: 1.4840 - acc: 0.6332 - val_loss: 1.5754 - val_acc: 0.6348\n",
      "Epoch 6/10\n",
      "440/440 [==============================] - 329s 749ms/step - loss: 1.4946 - acc: 0.6360 - val_loss: 1.7040 - val_acc: 0.6250\n",
      "Epoch 7/10\n",
      "440/440 [==============================] - 314s 714ms/step - loss: 1.2452 - acc: 0.6763 - val_loss: 2.1970 - val_acc: 0.6416\n",
      "Epoch 8/10\n",
      "440/440 [==============================] - 319s 724ms/step - loss: 1.3218 - acc: 0.6633 - val_loss: 1.7410 - val_acc: 0.6302\n",
      "Epoch 9/10\n",
      "440/440 [==============================] - 325s 740ms/step - loss: 1.1536 - acc: 0.7135 - val_loss: 1.7581 - val_acc: 0.6966\n",
      "Epoch 10/10\n",
      "440/440 [==============================] - 333s 758ms/step - loss: 1.0810 - acc: 0.7489 - val_loss: 1.7607 - val_acc: 0.6908\n"
     ]
    },
    {
     "data": {
      "text/plain": [
       "<keras.callbacks.History at 0x2c6609c1fd0>"
      ]
     },
     "execution_count": 38,
     "metadata": {},
     "output_type": "execute_result"
    }
   ],
   "source": [
    "model.fit(X_train, y_train, epochs=10, batch_size=128, validation_data = (X_validation, y_validation),workers=4)\n",
    "#model.fit(X_train, y_train, epochs=3, batch_size=128, validation_split=0.2)\n"
   ]
  },
  {
   "cell_type": "code",
   "execution_count": null,
   "id": "e9d7c0da",
   "metadata": {},
   "outputs": [],
   "source": [
    "lr_set = [0.001,0.0005]\n",
    "emb_set = [10,100]\n",
    "val_loss_set=[]\n",
    "val_acc_set=[]\n",
    "for i in lr_set:\n",
    "    for e in emb_set:\n",
    "        model = generate_model(e,n_most_common_words,128,i)\n",
    "        model.fit(X_train, y_train, epochs=10, batch_size=128, validation_data = (X_validation, y_validation),workers=4)\n",
    "        val_loss_set.append(model.history.history[\"val_loss\"])\n",
    "        val_acc_set.append(model.history.history[\"val_acc\"])\n"
   ]
  },
  {
   "cell_type": "code",
   "execution_count": 43,
   "id": "4361c35f",
   "metadata": {},
   "outputs": [
    {
     "data": {
      "text/plain": [
       "[2.5287842750549316,\n",
       " 1.9063090085983276,\n",
       " 1.7378844022750854,\n",
       " 1.6810482740402222,\n",
       " 1.575364589691162,\n",
       " 1.7039589881896973,\n",
       " 2.196972131729126,\n",
       " 1.741001009941101,\n",
       " 1.7580677270889282,\n",
       " 1.760731816291809]"
      ]
     },
     "execution_count": 43,
     "metadata": {},
     "output_type": "execute_result"
    }
   ],
   "source": [
    "model.history.history[\"val_loss\"]"
   ]
  },
  {
   "cell_type": "code",
   "execution_count": 40,
   "id": "5a570736",
   "metadata": {},
   "outputs": [],
   "source": [
    "import matplotlib.pyplot as plt\n",
    "\n",
    "def show_train_history(train_history,train_metrics,val_metrics):\n",
    "    plt.plot(train_history[train_metrics])\n",
    "    plt.plot(train_history[val_metrics])\n",
    "    plt.title('Train History')\n",
    "    plt.ylabel(train_metrics)\n",
    "    plt.xlabel('epoch')\n",
    "    plt.legend(['train','validation'],loc='upper left')\n",
    "    \n",
    "    plt.show()\n"
   ]
  },
  {
   "cell_type": "code",
   "execution_count": 41,
   "id": "98d16112",
   "metadata": {},
   "outputs": [
    {
     "data": {
      "image/png": "[encoded data removed]",
      "text/plain": [
       "<Figure size 640x480 with 1 Axes>"
      ]
     },
     "metadata": {},
     "output_type": "display_data"
    }
   ],
   "source": [
    "show_train_history(model.history.history,'loss','val_loss')"
   ]
  },
  {
   "cell_type": "code",
   "execution_count": 42,
   "id": "2ccb557a",
   "metadata": {},
   "outputs": [
    {
     "data": {
      "image/png": "[encoded data removed]",
      "text/plain": [
       "<Figure size 640x480 with 1 Axes>"
      ]
     },
     "metadata": {},
     "output_type": "display_data"
    }
   ],
   "source": [
    "show_train_history(model.history.history,'acc','val_acc')"
   ]
  },
  {
   "cell_type": "code",
   "execution_count": 41,
   "id": "35aa5d57",
   "metadata": {},
   "outputs": [
    {
     "data": {
      "text/plain": [
       "array([0., 0., 0., 0., 0., 0., 0., 0., 0., 0., 0., 0., 0., 0., 0., 0., 0.,\n",
       "       1., 0., 0., 0., 0., 0., 0.], dtype=float32)"
      ]
     },
     "execution_count": 41,
     "metadata": {},
     "output_type": "execute_result"
    }
   ],
   "source": []
  },
  {
   "cell_type": "code",
   "execution_count": 44,
   "id": "507af5ec",
   "metadata": {},
   "outputs": [
    {
     "name": "stdout",
     "output_type": "stream",
     "text": [
      "157/157 [==============================] - 12s 72ms/step\n"
     ]
    }
   ],
   "source": [
    "from sklearn.metrics import *\n",
    "prediction_probas = model.predict(X_test) \n"
   ]
  },
  {
   "cell_type": "code",
   "execution_count": 40,
   "id": "3e214f9d",
   "metadata": {},
   "outputs": [
    {
     "data": {
      "text/plain": [
       "10"
      ]
     },
     "execution_count": 40,
     "metadata": {},
     "output_type": "execute_result"
    }
   ],
   "source": [
    "predictions[0]"
   ]
  },
  {
   "cell_type": "code",
   "execution_count": 45,
   "id": "e596bb0d",
   "metadata": {},
   "outputs": [
    {
     "name": "stdout",
     "output_type": "stream",
     "text": [
      "[[   0    0    0    0    0    3    0    0    0    0    0    0    0    0\n",
      "     0    0    0    0    0    0]\n",
      " [   0    0    0    0    0   23    0    0    0    2    0    0    0    0\n",
      "     1    3    0    0    0    0]\n",
      " [   0    0    0    0    0   12    0    0    0    0    0    0    0    0\n",
      "     0    0    0    0    0    0]\n",
      " [   0    0    0    0    0    4    0    0    0   19    0    2    0    0\n",
      "     2    2    0    0    0    0]\n",
      " [   0    0    0    0    0   13    0    0    0    0    0    0    0    0\n",
      "     0    0    0    0    0    0]\n",
      " [   0    0    0    0    0  322    0    0    0   23    0    0    0    0\n",
      "     7    8    0    0    0    0]\n",
      " [   0    0    0    0    0    0   10   65    0   65    0    0    0    0\n",
      "    16    0    0    0    0    0]\n",
      " [   0    0    0    0    0    1    2   59    1   65    0    0    0    0\n",
      "    13    1    0    0    0    0]\n",
      " [   0    0    0    0    0    4    5   29   22  162    0    1    0    0\n",
      "    44    1    0    0    0    0]\n",
      " [   0    0    0    0    0   46   10   62   17 2246    0    0    0    0\n",
      "   159   50    0    0    0    0]\n",
      " [   0    0    0    0    0    2    1    0    0  164    1    0    0    0\n",
      "     1    1    0    0    0    0]\n",
      " [   0    0    0    0    0    3    0    3    1   25    0    6    0    0\n",
      "    14   15    1    0    0    0]\n",
      " [   0    0    0    0    0    0    0    0    0    1    0    0    0    0\n",
      "     0    0    0    0    0    0]\n",
      " [   0    0    0    0    0    3    0    0    0    2    0    1    0    4\n",
      "     4   17    0    0    0    0]\n",
      " [   0    0    0    0    0    9    0    2    1   51    0    1    0    0\n",
      "   379   10    0    0    0    0]\n",
      " [   0    0    0    0    0   20    1    0    1  114    2    1    0    0\n",
      "    19  331    4    0    0    0]\n",
      " [   0    0    0    0    0    6    0    1    3   58    0    2    0    0\n",
      "    26   56    8    0    0    0]\n",
      " [   0    0    0    0    0    1    0    0    0    2    0    0    0    0\n",
      "     2    0    0    0    0    0]\n",
      " [   0    0    0    0    0    0    0    0    0    4    0    0    0    0\n",
      "     0    0    0    0    0    0]\n",
      " [   0    0    0    0    0    1    0    0    1   10    0    0    0    0\n",
      "     0    1    0    0    0    0]]\n",
      "              precision    recall  f1-score   support\n",
      "\n",
      "           0      0.000     0.000     0.000         3\n",
      "           1      0.000     0.000     0.000        29\n",
      "           3      0.000     0.000     0.000        12\n",
      "           4      0.000     0.000     0.000        29\n",
      "           5      0.000     0.000     0.000        13\n",
      "           6      0.681     0.894     0.773       360\n",
      "           7      0.345     0.064     0.108       156\n",
      "           8      0.267     0.415     0.325       142\n",
      "           9      0.468     0.082     0.140       268\n",
      "          10      0.745     0.867     0.802      2590\n",
      "          11      0.333     0.006     0.012       170\n",
      "          12      0.429     0.088     0.146        68\n",
      "          14      0.000     0.000     0.000         1\n",
      "          15      1.000     0.129     0.229        31\n",
      "          17      0.552     0.837     0.665       453\n",
      "          18      0.667     0.671     0.669       493\n",
      "          19      0.615     0.050     0.092       160\n",
      "          21      0.000     0.000     0.000         5\n",
      "          22      0.000     0.000     0.000         4\n",
      "          23      0.000     0.000     0.000        13\n",
      "\n",
      "    accuracy                          0.678      5000\n",
      "   macro avg      0.305     0.205     0.198      5000\n",
      "weighted avg      0.637     0.678     0.624      5000\n",
      "\n"
     ]
    },
    {
     "name": "stderr",
     "output_type": "stream",
     "text": [
      "C:\\Users\\qiuji\\anaconda3\\lib\\site-packages\\sklearn\\metrics\\_classification.py:1318: UndefinedMetricWarning: Precision and F-score are ill-defined and being set to 0.0 in labels with no predicted samples. Use `zero_division` parameter to control this behavior.\n",
      "  _warn_prf(average, modifier, msg_start, len(result))\n",
      "C:\\Users\\qiuji\\anaconda3\\lib\\site-packages\\sklearn\\metrics\\_classification.py:1318: UndefinedMetricWarning: Precision and F-score are ill-defined and being set to 0.0 in labels with no predicted samples. Use `zero_division` parameter to control this behavior.\n",
      "  _warn_prf(average, modifier, msg_start, len(result))\n",
      "C:\\Users\\qiuji\\anaconda3\\lib\\site-packages\\sklearn\\metrics\\_classification.py:1318: UndefinedMetricWarning: Precision and F-score are ill-defined and being set to 0.0 in labels with no predicted samples. Use `zero_division` parameter to control this behavior.\n",
      "  _warn_prf(average, modifier, msg_start, len(result))\n"
     ]
    }
   ],
   "source": [
    "import numpy as np\n",
    "from sklearn.metrics import confusion_matrix\n",
    "predictions = [np.argmax(pred) for pred in prediction_probas]\n",
    "digit_y = [np.argmax(i)for i in y_test]\n",
    "print(confusion_matrix(digit_y, predictions)) #from sklearn.metrics\n",
    "print(classification_report(digit_y, predictions, digits=3))"
   ]
  },
  {
   "cell_type": "code",
   "execution_count": 43,
   "id": "910caf97",
   "metadata": {},
   "outputs": [],
   "source": [
    "import seaborn as sns\n",
    "import matplotlib.pyplot as plt\n",
    "\n"
   ]
  },
  {
   "cell_type": "code",
   "execution_count": 46,
   "id": "c6b782f3",
   "metadata": {},
   "outputs": [
    {
     "ename": "IndexError",
     "evalue": "index 20 is out of bounds for axis 0 with size 20",
     "output_type": "error",
     "traceback": [
      "\u001b[1;31m---------------------------------------------------------------------------\u001b[0m",
      "\u001b[1;31mIndexError\u001b[0m                                Traceback (most recent call last)",
      "\u001b[1;32m~\\AppData\\Local\\Temp\\ipykernel_16516\\2569969858.py\u001b[0m in \u001b[0;36m<module>\u001b[1;34m\u001b[0m\n\u001b[0;32m      4\u001b[0m   \u001b[0mx\u001b[0m\u001b[1;33m=\u001b[0m\u001b[1;33m[\u001b[0m\u001b[1;33m]\u001b[0m\u001b[1;33m\u001b[0m\u001b[1;33m\u001b[0m\u001b[0m\n\u001b[0;32m      5\u001b[0m   \u001b[1;32mfor\u001b[0m \u001b[0mj\u001b[0m \u001b[1;32min\u001b[0m \u001b[0mrange\u001b[0m\u001b[1;33m(\u001b[0m\u001b[1;36m24\u001b[0m\u001b[1;33m)\u001b[0m\u001b[1;33m:\u001b[0m\u001b[1;33m\u001b[0m\u001b[1;33m\u001b[0m\u001b[0m\n\u001b[1;32m----> 6\u001b[1;33m     \u001b[0mx\u001b[0m\u001b[1;33m.\u001b[0m\u001b[0mappend\u001b[0m\u001b[1;33m(\u001b[0m\u001b[0mstr\u001b[0m\u001b[1;33m(\u001b[0m\u001b[0mdata\u001b[0m\u001b[1;33m[\u001b[0m\u001b[0mi\u001b[0m\u001b[1;33m]\u001b[0m\u001b[1;33m[\u001b[0m\u001b[0mj\u001b[0m\u001b[1;33m]\u001b[0m\u001b[1;33m)\u001b[0m\u001b[1;33m)\u001b[0m\u001b[1;33m\u001b[0m\u001b[1;33m\u001b[0m\u001b[0m\n\u001b[0m\u001b[0;32m      7\u001b[0m   \u001b[0mtext_str\u001b[0m\u001b[1;33m.\u001b[0m\u001b[0mappend\u001b[0m\u001b[1;33m(\u001b[0m\u001b[0mx\u001b[0m\u001b[1;33m)\u001b[0m\u001b[1;33m\u001b[0m\u001b[1;33m\u001b[0m\u001b[0m\n\u001b[0;32m      8\u001b[0m \u001b[1;33m\u001b[0m\u001b[0m\n",
      "\u001b[1;31mIndexError\u001b[0m: index 20 is out of bounds for axis 0 with size 20"
     ]
    }
   ],
   "source": [
    "text_str=[]\n",
    "data = confusion_matrix(digit_y, predictions)\n",
    "for i in range(24):\n",
    "  x=[]\n",
    "  for j in range(24):\n",
    "    x.append(str(data[i][j]))\n",
    "  text_str.append(x)\n",
    "\n",
    "\n",
    "ax = sns.heatmap(data, cmap='RdYlGn',vmin=0, vmax=5**3, annot=text_str,fmt=\"\")\n",
    "\n",
    "xxx = [i for i in range(24)]\n",
    "xxxs = [str(i) for i in range(24)]\n",
    "plt.xticks(xxx,xxxs,rotation=45)\n",
    "plt.yticks(xxx,('0','1','2','3','4','5','6','7','8','9','10','11','12','13','14','15','16','17','18','19','20','21','22','23'),rotation=45)\n",
    "\n",
    "#We are imagining that the squares in the heat-map are function values corresponding to domain points, [20,40,60,80]x[100,200,300]\n",
    "plt.title(\"Heatmap Plot Title\")\n",
    "plt.xlabel(\"X-axis Labels\")\n",
    "plt.ylabel(\"Y-axes Labels\")\n",
    "\n",
    "\n",
    "plt.show()\n"
   ]
  },
  {
   "cell_type": "code",
   "execution_count": 47,
   "id": "e643a9f8",
   "metadata": {},
   "outputs": [
    {
     "data": {
      "text/plain": [
       "array([[   0,    0,    0,    0,    0,    3,    0,    0,    0,    0,    0,\n",
       "           0,    0,    0,    0,    0,    0,    0,    0,    0],\n",
       "       [   0,    0,    0,    0,    0,   23,    0,    0,    0,    2,    0,\n",
       "           0,    0,    0,    1,    3,    0,    0,    0,    0],\n",
       "       [   0,    0,    0,    0,    0,   12,    0,    0,    0,    0,    0,\n",
       "           0,    0,    0,    0,    0,    0,    0,    0,    0],\n",
       "       [   0,    0,    0,    0,    0,    4,    0,    0,    0,   19,    0,\n",
       "           2,    0,    0,    2,    2,    0,    0,    0,    0],\n",
       "       [   0,    0,    0,    0,    0,   13,    0,    0,    0,    0,    0,\n",
       "           0,    0,    0,    0,    0,    0,    0,    0,    0],\n",
       "       [   0,    0,    0,    0,    0,  322,    0,    0,    0,   23,    0,\n",
       "           0,    0,    0,    7,    8,    0,    0,    0,    0],\n",
       "       [   0,    0,    0,    0,    0,    0,   10,   65,    0,   65,    0,\n",
       "           0,    0,    0,   16,    0,    0,    0,    0,    0],\n",
       "       [   0,    0,    0,    0,    0,    1,    2,   59,    1,   65,    0,\n",
       "           0,    0,    0,   13,    1,    0,    0,    0,    0],\n",
       "       [   0,    0,    0,    0,    0,    4,    5,   29,   22,  162,    0,\n",
       "           1,    0,    0,   44,    1,    0,    0,    0,    0],\n",
       "       [   0,    0,    0,    0,    0,   46,   10,   62,   17, 2246,    0,\n",
       "           0,    0,    0,  159,   50,    0,    0,    0,    0],\n",
       "       [   0,    0,    0,    0,    0,    2,    1,    0,    0,  164,    1,\n",
       "           0,    0,    0,    1,    1,    0,    0,    0,    0],\n",
       "       [   0,    0,    0,    0,    0,    3,    0,    3,    1,   25,    0,\n",
       "           6,    0,    0,   14,   15,    1,    0,    0,    0],\n",
       "       [   0,    0,    0,    0,    0,    0,    0,    0,    0,    1,    0,\n",
       "           0,    0,    0,    0,    0,    0,    0,    0,    0],\n",
       "       [   0,    0,    0,    0,    0,    3,    0,    0,    0,    2,    0,\n",
       "           1,    0,    4,    4,   17,    0,    0,    0,    0],\n",
       "       [   0,    0,    0,    0,    0,    9,    0,    2,    1,   51,    0,\n",
       "           1,    0,    0,  379,   10,    0,    0,    0,    0],\n",
       "       [   0,    0,    0,    0,    0,   20,    1,    0,    1,  114,    2,\n",
       "           1,    0,    0,   19,  331,    4,    0,    0,    0],\n",
       "       [   0,    0,    0,    0,    0,    6,    0,    1,    3,   58,    0,\n",
       "           2,    0,    0,   26,   56,    8,    0,    0,    0],\n",
       "       [   0,    0,    0,    0,    0,    1,    0,    0,    0,    2,    0,\n",
       "           0,    0,    0,    2,    0,    0,    0,    0,    0],\n",
       "       [   0,    0,    0,    0,    0,    0,    0,    0,    0,    4,    0,\n",
       "           0,    0,    0,    0,    0,    0,    0,    0,    0],\n",
       "       [   0,    0,    0,    0,    0,    1,    0,    0,    1,   10,    0,\n",
       "           0,    0,    0,    0,    1,    0,    0,    0,    0]],\n",
       "      dtype=int64)"
      ]
     },
     "execution_count": 47,
     "metadata": {},
     "output_type": "execute_result"
    }
   ],
   "source": [
    "data"
   ]
  },
  {
   "cell_type": "code",
   "execution_count": null,
   "id": "4f8eb765",
   "metadata": {},
   "outputs": [],
   "source": []
  }
 ],
 "metadata": {
  "kernelspec": {
   "display_name": "Python 3 (ipykernel)",
   "language": "python",
   "name": "python3"
  },
  "language_info": {
   "codemirror_mode": {
    "name": "ipython",
    "version": 3
   },
   "file_extension": ".py",
   "mimetype": "text/x-python",
   "name": "python",
   "nbconvert_exporter": "python",
   "pygments_lexer": "ipython3",
   "version": "3.9.13"
  }
 },
 "nbformat": 4,
 "nbformat_minor": 5
}
