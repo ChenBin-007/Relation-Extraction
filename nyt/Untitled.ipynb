{
 "cells": [
  {
   "cell_type": "code",
   "execution_count": 1,
   "id": "427e59d3",
   "metadata": {},
   "outputs": [
    {
     "name": "stdout",
     "output_type": "stream",
     "text": [
      "                                                    text           id  \\\n",
      "0      Massachusetts ASTON MAGNA Great Barrington ; a...      train_0   \n",
      "1      North Carolina EASTERN MUSIC FESTIVAL Greensbo...      train_1   \n",
      "2      It will be the final movie credited to Debra H...      train_2   \n",
      "3      In a 3-0 victory over the Crew on Saturday in ...      train_3   \n",
      "4      The United States ambassador to Mexico , Tony ...      train_4   \n",
      "...                                                  ...          ...   \n",
      "56191  Tanna 's big draw is Mount Yasur , one of the ...  train_56191   \n",
      "56192  We flew Air Pacific -LRB- 800-227-4446 ; www.a...  train_56192   \n",
      "56193  I think Westchester is changing , '' said Kenn...  train_56193   \n",
      "56194  Here we have a 172-acre island with four-star ...  train_56194   \n",
      "56195  One was for St. Francis de Sales Roman Catholi...  train_56195   \n",
      "\n",
      "                                           relation_list  \\\n",
      "0      [{'subject': 'Annandale-on-Hudson', 'object': ...   \n",
      "1      [{'subject': 'North Carolina', 'object': 'Gree...   \n",
      "2      [{'subject': 'Debra Hill', 'object': 'Haddonfi...   \n",
      "3      [{'subject': 'Ohio', 'object': 'Columbus', 'su...   \n",
      "4      [{'subject': 'Mexico', 'object': 'Nuevo Laredo...   \n",
      "...                                                  ...   \n",
      "56191  [{'subject': 'Tanna', 'object': 'Mount Yasur',...   \n",
      "56192  [{'subject': 'Vanuatu', 'object': 'Port Vila',...   \n",
      "56193  [{'subject': 'Kenneth T. Jackson', 'object': '...   \n",
      "56194  [{'subject': 'Ellis Island', 'object': 'Manhat...   \n",
      "56195  [{'subject': 'Belle Harbor', 'object': 'Queens...   \n",
      "\n",
      "                                             entity_list  \n",
      "0      [{'text': 'Annandale-on-Hudson', 'type': 'DEFA...  \n",
      "1      [{'text': 'North Carolina', 'type': 'DEFAULT',...  \n",
      "2      [{'text': 'Debra Hill', 'type': 'DEFAULT', 'ch...  \n",
      "3      [{'text': 'Ohio', 'type': 'DEFAULT', 'char_spa...  \n",
      "4      [{'text': 'Mexico', 'type': 'DEFAULT', 'char_s...  \n",
      "...                                                  ...  \n",
      "56191  [{'text': 'Tanna', 'type': 'DEFAULT', 'char_sp...  \n",
      "56192  [{'text': 'Vanuatu', 'type': 'DEFAULT', 'char_...  \n",
      "56193  [{'text': 'Kenneth T. Jackson', 'type': 'DEFAU...  \n",
      "56194  [{'text': 'Ellis Island', 'type': 'DEFAULT', '...  \n",
      "56195  [{'text': 'Belle Harbor', 'type': 'DEFAULT', '...  \n",
      "\n",
      "[56196 rows x 4 columns]\n"
     ]
    }
   ],
   "source": [
    "import pandas as pd\n",
    "\n",
    "\n",
    "df = pd.read_json(\"train_data.json\",encoding=\"utf-8\", orient='records')\n",
    "print(df)"
   ]
  },
  {
   "cell_type": "code",
   "execution_count": 2,
   "id": "ec287d25",
   "metadata": {},
   "outputs": [
    {
     "data": {
      "text/plain": [
       "(56196, 4)"
      ]
     },
     "execution_count": 2,
     "metadata": {},
     "output_type": "execute_result"
    }
   ],
   "source": [
    "df.shape"
   ]
  },
  {
   "cell_type": "code",
   "execution_count": 8,
   "id": "fa6ca977",
   "metadata": {},
   "outputs": [
    {
     "data": {
      "text/plain": [
       "'Massachusetts ASTON MAGNA Great Barrington ; also at Bard College , Annandale-on-Hudson , N.Y. , July 1-Aug .'"
      ]
     },
     "execution_count": 8,
     "metadata": {},
     "output_type": "execute_result"
    }
   ],
   "source": [
    "df[\"text\"][0]"
   ]
  },
  {
   "cell_type": "code",
   "execution_count": 18,
   "id": "af14e181",
   "metadata": {},
   "outputs": [
    {
     "data": {
      "text/plain": [
       "dict"
      ]
     },
     "execution_count": 18,
     "metadata": {},
     "output_type": "execute_result"
    }
   ],
   "source": [
    "type(df[\"relation_list\"][0][0])"
   ]
  },
  {
   "cell_type": "code",
   "execution_count": 20,
   "id": "405744e7",
   "metadata": {},
   "outputs": [
    {
     "name": "stdout",
     "output_type": "stream",
     "text": [
      "[{'subject': 'Annandale-on-Hudson', 'object': 'Bard College', 'subj_char_span': [68, 87], 'obj_char_span': [53, 65], 'predicate': '/location/location/contains', 'subj_tok_span': [17, 24], 'obj_tok_span': [13, 16]}]\n",
      "[{'subject': 'North Carolina', 'object': 'Greensboro', 'subj_char_span': [0, 14], 'obj_char_span': [38, 48], 'predicate': '/location/location/contains', 'subj_tok_span': [0, 2], 'obj_tok_span': [14, 16]}]\n",
      "[{'subject': 'Debra Hill', 'object': 'Haddonfield', 'subj_char_span': [39, 49], 'obj_char_span': [82, 93], 'predicate': '/people/person/place_of_birth', 'subj_tok_span': [8, 11], 'obj_tok_span': [18, 21]}]\n",
      "[{'subject': 'Ohio', 'object': 'Columbus', 'subj_char_span': [57, 61], 'obj_char_span': [46, 54], 'predicate': '/location/location/contains', 'subj_tok_span': [14, 15], 'obj_tok_span': [12, 13]}]\n",
      "[{'subject': 'Mexico', 'object': 'Nuevo Laredo', 'subj_char_span': [32, 38], 'obj_char_span': [121, 133], 'predicate': '/location/location/contains', 'subj_tok_span': [5, 6], 'obj_tok_span': [25, 28]}]\n",
      "[{'subject': 'Carlos Ghosn', 'object': 'Renault', 'subj_char_span': [123, 135], 'obj_char_span': [161, 168], 'predicate': '/business/person/company', 'subj_tok_span': [30, 34], 'obj_tok_span': [39, 40]}]\n",
      "[{'subject': 'Anthony D. Weiner', 'object': 'Brooklyn', 'subj_char_span': [113, 130], 'obj_char_span': [134, 142], 'predicate': '/people/person/place_lived', 'subj_tok_span': [21, 26], 'obj_tok_span': [27, 28]}, {'subject': 'Anthony D. Weiner', 'object': 'Queens', 'subj_char_span': [113, 130], 'obj_char_span': [147, 153], 'predicate': '/people/person/place_lived', 'subj_tok_span': [21, 26], 'obj_tok_span': [29, 30]}]\n",
      "[{'subject': 'Charles B. Rangel', 'object': 'New York City', 'subj_char_span': [29, 46], 'obj_char_span': [106, 119], 'predicate': '/people/person/place_of_birth', 'subj_tok_span': [3, 8], 'obj_tok_span': [20, 23]}, {'subject': 'Charles B. Rangel', 'object': 'New York City', 'subj_char_span': [29, 46], 'obj_char_span': [106, 119], 'predicate': '/people/person/place_lived', 'subj_tok_span': [3, 8], 'obj_tok_span': [20, 23]}]\n",
      "[{'subject': 'John McCain', 'object': 'Arizona', 'subj_char_span': [215, 226], 'obj_char_span': [243, 250], 'predicate': '/people/person/place_lived', 'subj_tok_span': [41, 43], 'obj_tok_span': [46, 47]}]\n",
      "[{'subject': 'Ontario', 'object': 'Canada', 'subj_char_span': [57, 64], 'obj_char_span': [9, 15], 'predicate': '/location/administrative_division/country', 'subj_tok_span': [11, 12], 'obj_tok_span': [2, 3]}, {'subject': 'Canada', 'object': 'Ontario', 'subj_char_span': [9, 15], 'obj_char_span': [57, 64], 'predicate': '/location/location/contains', 'subj_tok_span': [2, 3], 'obj_tok_span': [11, 12]}, {'subject': 'Canada', 'object': 'Ontario', 'subj_char_span': [9, 15], 'obj_char_span': [57, 64], 'predicate': '/location/country/administrative_divisions', 'subj_tok_span': [2, 3], 'obj_tok_span': [11, 12]}]\n"
     ]
    }
   ],
   "source": [
    "for i in range(10):\n",
    "    print(df[\"relation_list\"][i])"
   ]
  },
  {
   "cell_type": "code",
   "execution_count": 7,
   "id": "f850823f",
   "metadata": {},
   "outputs": [
    {
     "data": {
      "text/plain": [
       "[{'text': 'Annandale-on-Hudson',\n",
       "  'type': 'DEFAULT',\n",
       "  'char_span': [68, 87],\n",
       "  'tok_span': [17, 24]},\n",
       " {'text': 'Bard College',\n",
       "  'type': 'DEFAULT',\n",
       "  'char_span': [53, 65],\n",
       "  'tok_span': [13, 16]}]"
      ]
     },
     "execution_count": 7,
     "metadata": {},
     "output_type": "execute_result"
    }
   ],
   "source": [
    "df[\"entity_list\"][0]"
   ]
  },
  {
   "cell_type": "code",
   "execution_count": 9,
   "id": "aa1b4d92",
   "metadata": {},
   "outputs": [
    {
     "name": "stdout",
     "output_type": "stream",
     "text": [
      "                                                    text           id  \\\n",
      "0      Massachusetts ASTON MAGNA Great Barrington ; a...      train_0   \n",
      "1      North Carolina EASTERN MUSIC FESTIVAL Greensbo...      train_1   \n",
      "2      It will be the final movie credited to Debra H...      train_2   \n",
      "3      In a 3-0 victory over the Crew on Saturday in ...      train_3   \n",
      "4      The United States ambassador to Mexico , Tony ...      train_4   \n",
      "...                                                  ...          ...   \n",
      "56191  Tanna 's big draw is Mount Yasur , one of the ...  train_56191   \n",
      "56192  We flew Air Pacific -LRB- 800-227-4446 ; www.a...  train_56192   \n",
      "56193  I think Westchester is changing , '' said Kenn...  train_56193   \n",
      "56194  Here we have a 172-acre island with four-star ...  train_56194   \n",
      "56195  One was for St. Francis de Sales Roman Catholi...  train_56195   \n",
      "\n",
      "                                           relation_list  \\\n",
      "0      [{'subject': 'Annandale-on-Hudson', 'object': ...   \n",
      "1      [{'subject': 'North Carolina', 'object': 'Gree...   \n",
      "2      [{'subject': 'Debra Hill', 'object': 'Haddonfi...   \n",
      "3      [{'subject': 'Ohio', 'object': 'Columbus', 'su...   \n",
      "4      [{'subject': 'Mexico', 'object': 'Nuevo Laredo...   \n",
      "...                                                  ...   \n",
      "56191  [{'subject': 'Tanna', 'object': 'Mount Yasur',...   \n",
      "56192  [{'subject': 'Vanuatu', 'object': 'Port Vila',...   \n",
      "56193  [{'subject': 'Kenneth T. Jackson', 'object': '...   \n",
      "56194  [{'subject': 'Ellis Island', 'object': 'Manhat...   \n",
      "56195  [{'subject': 'Belle Harbor', 'object': 'Queens...   \n",
      "\n",
      "                                             entity_list  \n",
      "0      [{'text': 'Annandale-on-Hudson', 'type': 'DEFA...  \n",
      "1      [{'text': 'North Carolina', 'type': 'DEFAULT',...  \n",
      "2      [{'text': 'Debra Hill', 'type': 'DEFAULT', 'ch...  \n",
      "3      [{'text': 'Ohio', 'type': 'DEFAULT', 'char_spa...  \n",
      "4      [{'text': 'Mexico', 'type': 'DEFAULT', 'char_s...  \n",
      "...                                                  ...  \n",
      "56191  [{'text': 'Tanna', 'type': 'DEFAULT', 'char_sp...  \n",
      "56192  [{'text': 'Vanuatu', 'type': 'DEFAULT', 'char_...  \n",
      "56193  [{'text': 'Kenneth T. Jackson', 'type': 'DEFAU...  \n",
      "56194  [{'text': 'Ellis Island', 'type': 'DEFAULT', '...  \n",
      "56195  [{'text': 'Belle Harbor', 'type': 'DEFAULT', '...  \n",
      "\n",
      "[56196 rows x 4 columns]\n"
     ]
    }
   ],
   "source": []
  },
  {
   "cell_type": "code",
   "execution_count": null,
   "id": "02c5f382",
   "metadata": {},
   "outputs": [],
   "source": []
  }
 ],
 "metadata": {
  "kernelspec": {
   "display_name": "Python 3 (ipykernel)",
   "language": "python",
   "name": "python3"
  },
  "language_info": {
   "codemirror_mode": {
    "name": "ipython",
    "version": 3
   },
   "file_extension": ".py",
   "mimetype": "text/x-python",
   "name": "python",
   "nbconvert_exporter": "python",
   "pygments_lexer": "ipython3",
   "version": "3.9.13"
  }
 },
 "nbformat": 4,
 "nbformat_minor": 5
}
